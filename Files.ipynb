{
 "cells": [
  {
   "cell_type": "code",
   "execution_count": 1,
   "metadata": {},
   "outputs": [],
   "source": [
    "import os"
   ]
  },
  {
   "cell_type": "code",
   "execution_count": 2,
   "metadata": {},
   "outputs": [
    {
     "data": {
      "text/plain": [
       "'C:\\\\Users\\\\harsh\\\\Desktop\\\\jupyter codes'"
      ]
     },
     "execution_count": 2,
     "metadata": {},
     "output_type": "execute_result"
    }
   ],
   "source": [
    "os.getcwd()\n",
    "#print the current working directory"
   ]
  },
  {
   "cell_type": "code",
   "execution_count": 3,
   "metadata": {},
   "outputs": [
    {
     "name": "stdout",
     "output_type": "stream",
     "text": [
      "Help on built-in function listdir in module nt:\n",
      "\n",
      "listdir(path=None)\n",
      "    Return a list containing the names of the files in the directory.\n",
      "    \n",
      "    path can be specified as either str, bytes, or a path-like object.  If path is bytes,\n",
      "      the filenames returned will also be bytes; in all other circumstances\n",
      "      the filenames returned will be str.\n",
      "    If path is None, uses the path='.'.\n",
      "    On some platforms, path may also be specified as an open file descriptor;\\\n",
      "      the file descriptor must refer to a directory.\n",
      "      If this functionality is unavailable, using it raises NotImplementedError.\n",
      "    \n",
      "    The list is in arbitrary order.  It does not include the special\n",
      "    entries '.' and '..' even if they are present in the directory.\n",
      "\n"
     ]
    }
   ],
   "source": [
    "help(os.listdir)"
   ]
  },
  {
   "cell_type": "code",
   "execution_count": 4,
   "metadata": {},
   "outputs": [
    {
     "data": {
      "text/plain": [
       "['.ipynb_checkpoints',\n",
       " 'Classes and modules.ipynb',\n",
       " 'data',\n",
       " 'demo1.txt',\n",
       " 'demo2.txt',\n",
       " 'Files.ipynb',\n",
       " 'insurance.csv',\n",
       " 'ml day 1 intro.ipynb',\n",
       " 'ML_Intro.ipynb',\n",
       " 'new_comp.zip',\n",
       " 'numpy .ipynb',\n",
       " 'Numpy.ipynb',\n",
       " 'Pandas.ipynb',\n",
       " 'python day2.ipynb',\n",
       " 'this is your extraccted content']"
      ]
     },
     "execution_count": 4,
     "metadata": {},
     "output_type": "execute_result"
    }
   ],
   "source": [
    "os.listdir('.')\n",
    "#relative path"
   ]
  },
  {
   "cell_type": "code",
   "execution_count": 5,
   "metadata": {},
   "outputs": [
    {
     "data": {
      "text/plain": [
       "['All Users', 'Default', 'Default User', 'desktop.ini', 'harsh', 'Public']"
      ]
     },
     "execution_count": 5,
     "metadata": {},
     "output_type": "execute_result"
    }
   ],
   "source": [
    "os.listdir('C:\\\\Users')\n",
    "#absolute path"
   ]
  },
  {
   "cell_type": "code",
   "execution_count": 6,
   "metadata": {},
   "outputs": [],
   "source": [
    "os.makedirs('./data',exist_ok=True)\n",
    "#make a directory by passing relative path"
   ]
  },
  {
   "cell_type": "code",
   "execution_count": 7,
   "metadata": {},
   "outputs": [],
   "source": [
    "import urllib.request as urlibreq\n",
    "#download from net by passing http link"
   ]
  },
  {
   "cell_type": "code",
   "execution_count": 8,
   "metadata": {},
   "outputs": [],
   "source": [
    "url1='https://www.w3.org/TR/PNG/iso_8859-1.txt'"
   ]
  },
  {
   "cell_type": "code",
   "execution_count": 9,
   "metadata": {},
   "outputs": [
    {
     "data": {
      "text/plain": [
       "('./data/sampletextfile.txt', <http.client.HTTPMessage at 0x2d2249e73d0>)"
      ]
     },
     "execution_count": 9,
     "metadata": {},
     "output_type": "execute_result"
    }
   ],
   "source": [
    "urlibreq.urlretrieve(url1,'./data/sampletextfile.txt')"
   ]
  },
  {
   "cell_type": "code",
   "execution_count": 10,
   "metadata": {},
   "outputs": [
    {
     "data": {
      "text/plain": [
       "['sampletextfile.txt']"
      ]
     },
     "execution_count": 10,
     "metadata": {},
     "output_type": "execute_result"
    }
   ],
   "source": [
    "os.listdir('./data')"
   ]
  },
  {
   "cell_type": "markdown",
   "metadata": {},
   "source": [
    "# Read the file"
   ]
  },
  {
   "cell_type": "code",
   "execution_count": 11,
   "metadata": {},
   "outputs": [],
   "source": [
    "file=open('./data/sampletextfile.txt',mode='r')\n",
    "#mode can be r,w,x,a\n",
    "#open the file and specify the relative path / absolute path"
   ]
  },
  {
   "cell_type": "code",
   "execution_count": 12,
   "metadata": {},
   "outputs": [],
   "source": [
    "#w+ for reading and writing both\n",
    "file_contents=file.read()"
   ]
  },
  {
   "cell_type": "code",
   "execution_count": 13,
   "metadata": {},
   "outputs": [
    {
     "data": {
      "text/plain": [
       "\"The following are the graphical (non-control) characters defined by\\nISO 8859-1 (1987).  Descriptions in words aren't all that helpful,\\nbut they're the best we can do in text.  A graphics file illustrating\\nthe character set should be available from the same archive as this\\nfile.\\n\\nHex Description                 Hex Description\\n\\n20  SPACE\\n21  EXCLAMATION MARK            A1  INVERTED EXCLAMATION MARK\\n22  QUOTATION MARK              A2  CENT SIGN\\n23  NUMBER SIGN                 A3  POUND SIGN\\n24  DOLLAR SIGN                 A4  CURRENCY SIGN\\n25  PERCENT SIGN                A5  YEN SIGN\\n26  AMPERSAND                   A6  BROKEN BAR\\n27  APOSTROPHE                  A7  SECTION SIGN\\n28  LEFT PARENTHESIS            A8  DIAERESIS\\n29  RIGHT PARENTHESIS           A9  COPYRIGHT SIGN\\n2A  ASTERISK                    AA  FEMININE ORDINAL INDICATOR\\n2B  PLUS SIGN                   AB  LEFT-POINTING DOUBLE ANGLE QUOTATION MARK\\n2C  COMMA                       AC  NOT SIGN\\n2D  HYPHEN-MINUS                AD  SOFT HYPHEN\\n2E  FULL STOP                   AE  REGISTERED SIGN\\n2F  SOLIDUS                     AF  OVERLINE\\n30  DIGIT ZERO                  B0  DEGREE SIGN\\n31  DIGIT ONE                   B1  PLUS-MINUS SIGN\\n32  DIGIT TWO                   B2  SUPERSCRIPT TWO\\n33  DIGIT THREE                 B3  SUPERSCRIPT THREE\\n34  DIGIT FOUR                  B4  ACUTE ACCENT\\n35  DIGIT FIVE                  B5  MICRO SIGN\\n36  DIGIT SIX                   B6  PILCROW SIGN\\n37  DIGIT SEVEN                 B7  MIDDLE DOT\\n38  DIGIT EIGHT                 B8  CEDILLA\\n39  DIGIT NINE                  B9  SUPERSCRIPT ONE\\n3A  COLON                       BA  MASCULINE ORDINAL INDICATOR\\n3B  SEMICOLON                   BB  RIGHT-POINTING DOUBLE ANGLE QUOTATION MARK\\n3C  LESS-THAN SIGN              BC  VULGAR FRACTION ONE QUARTER\\n3D  EQUALS SIGN                 BD  VULGAR FRACTION ONE HALF\\n3E  GREATER-THAN SIGN           BE  VULGAR FRACTION THREE QUARTERS\\n3F  QUESTION MARK               BF  INVERTED QUESTION MARK\\n40  COMMERCIAL AT               C0  CAPITAL LETTER A WITH GRAVE\\n41  CAPITAL LETTER A            C1  CAPITAL LETTER A WITH ACUTE\\n42  CAPITAL LETTER B            C2  CAPITAL LETTER A WITH CIRCUMFLEX\\n43  CAPITAL LETTER C            C3  CAPITAL LETTER A WITH TILDE\\n44  CAPITAL LETTER D            C4  CAPITAL LETTER A WITH DIAERESIS\\n45  CAPITAL LETTER E            C5  CAPITAL LETTER A WITH RING ABOVE\\n46  CAPITAL LETTER F            C6  CAPITAL LETTER AE\\n47  CAPITAL LETTER G            C7  CAPITAL LETTER C WITH CEDILLA\\n48  CAPITAL LETTER H            C8  CAPITAL LETTER E WITH GRAVE\\n49  CAPITAL LETTER I            C9  CAPITAL LETTER E WITH ACUTE\\n4A  CAPITAL LETTER J            CA  CAPITAL LETTER E WITH CIRCUMFLEX\\n4B  CAPITAL LETTER K            CB  CAPITAL LETTER E WITH DIAERESIS\\n4C  CAPITAL LETTER L            CC  CAPITAL LETTER I WITH GRAVE\\n4D  CAPITAL LETTER M            CD  CAPITAL LETTER I WITH ACUTE\\n4E  CAPITAL LETTER N            CE  CAPITAL LETTER I WITH CIRCUMFLEX\\n4F  CAPITAL LETTER O            CF  CAPITAL LETTER I WITH DIAERESIS\\n50  CAPITAL LETTER P            D0  CAPITAL LETTER ETH (Icelandic)\\n51  CAPITAL LETTER Q            D1  CAPITAL LETTER N WITH TILDE\\n52  CAPITAL LETTER R            D2  CAPITAL LETTER O WITH GRAVE\\n53  CAPITAL LETTER S            D3  CAPITAL LETTER O WITH ACUTE\\n54  CAPITAL LETTER T            D4  CAPITAL LETTER O WITH CIRCUMFLEX\\n55  CAPITAL LETTER U            D5  CAPITAL LETTER O WITH TILDE\\n56  CAPITAL LETTER V            D6  CAPITAL LETTER O WITH DIAERESIS\\n57  CAPITAL LETTER W            D7  MULTIPLICATION SIGN\\n58  CAPITAL LETTER X            D8  CAPITAL LETTER O WITH STROKE\\n59  CAPITAL LETTER Y            D9  CAPITAL LETTER U WITH GRAVE\\n5A  CAPITAL LETTER Z            DA  CAPITAL LETTER U WITH ACUTE\\n5B  LEFT SQUARE BRACKET         DB  CAPITAL LETTER U WITH CIRCUMFLEX\\n5C  REVERSE SOLIDUS             DC  CAPITAL LETTER U WITH DIAERESIS\\n5D  RIGHT SQUARE BRACKET        DD  CAPITAL LETTER Y WITH ACUTE\\n5E  CIRCUMFLEX ACCENT           DE  CAPITAL LETTER THORN (Icelandic)\\n5F  LOW LINE                    DF  SMALL LETTER SHARP S (German)\\n60  GRAVE ACCENT                E0  SMALL LETTER A WITH GRAVE\\n61  SMALL LETTER A              E1  SMALL LETTER A WITH ACUTE\\n62  SMALL LETTER B              E2  SMALL LETTER A WITH CIRCUMFLEX\\n63  SMALL LETTER C              E3  SMALL LETTER A WITH TILDE\\n64  SMALL LETTER D              E4  SMALL LETTER A WITH DIAERESIS\\n65  SMALL LETTER E              E5  SMALL LETTER A WITH RING ABOVE\\n66  SMALL LETTER F              E6  SMALL LETTER AE\\n67  SMALL LETTER G              E7  SMALL LETTER C WITH CEDILLA\\n68  SMALL LETTER H              E8  SMALL LETTER E WITH GRAVE\\n69  SMALL LETTER I              E9  SMALL LETTER E WITH ACUTE\\n6A  SMALL LETTER J              EA  SMALL LETTER E WITH CIRCUMFLEX\\n6B  SMALL LETTER K              EB  SMALL LETTER E WITH DIAERESIS\\n6C  SMALL LETTER L              EC  SMALL LETTER I WITH GRAVE\\n6D  SMALL LETTER M              ED  SMALL LETTER I WITH ACUTE\\n6E  SMALL LETTER N              EE  SMALL LETTER I WITH CIRCUMFLEX\\n6F  SMALL LETTER O              EF  SMALL LETTER I WITH DIAERESIS\\n70  SMALL LETTER P              F0  SMALL LETTER ETH (Icelandic)\\n71  SMALL LETTER Q              F1  SMALL LETTER N WITH TILDE\\n72  SMALL LETTER R              F2  SMALL LETTER O WITH GRAVE\\n73  SMALL LETTER S              F3  SMALL LETTER O WITH ACUTE\\n74  SMALL LETTER T              F4  SMALL LETTER O WITH CIRCUMFLEX\\n75  SMALL LETTER U              F5  SMALL LETTER O WITH TILDE\\n76  SMALL LETTER V              F6  SMALL LETTER O WITH DIAERESIS\\n77  SMALL LETTER W              F7  DIVISION SIGN\\n78  SMALL LETTER X              F8  SMALL LETTER O WITH STROKE\\n79  SMALL LETTER Y              F9  SMALL LETTER U WITH GRAVE\\n7A  SMALL LETTER Z              FA  SMALL LETTER U WITH ACUTE\\n7B  LEFT CURLY BRACKET          FB  SMALL LETTER U WITH CIRCUMFLEX\\n7C  VERTICAL LINE               FC  SMALL LETTER U WITH DIAERESIS\\n7D  RIGHT CURLY BRACKET         FD  SMALL LETTER Y WITH ACUTE\\n7E  TILDE                       FE  SMALL LETTER THORN (Icelandic)\\n                                FF  SMALL LETTER Y WITH DIAERESIS\\n\""
      ]
     },
     "execution_count": 13,
     "metadata": {},
     "output_type": "execute_result"
    }
   ],
   "source": [
    "file_contents"
   ]
  },
  {
   "cell_type": "code",
   "execution_count": 14,
   "metadata": {},
   "outputs": [
    {
     "name": "stdout",
     "output_type": "stream",
     "text": [
      "The following are the graphical (non-control) characters defined by\n",
      "ISO 8859-1 (1987).  Descriptions in words aren't all that helpful,\n",
      "but they're the best we can do in text.  A graphics file illustrating\n",
      "the character set should be available from the same archive as this\n",
      "file.\n",
      "\n",
      "Hex Description                 Hex Description\n",
      "\n",
      "20  SPACE\n",
      "21  EXCLAMATION MARK            A1  INVERTED EXCLAMATION MARK\n",
      "22  QUOTATION MARK              A2  CENT SIGN\n",
      "23  NUMBER SIGN                 A3  POUND SIGN\n",
      "24  DOLLAR SIGN                 A4  CURRENCY SIGN\n",
      "25  PERCENT SIGN                A5  YEN SIGN\n",
      "26  AMPERSAND                   A6  BROKEN BAR\n",
      "27  APOSTROPHE                  A7  SECTION SIGN\n",
      "28  LEFT PARENTHESIS            A8  DIAERESIS\n",
      "29  RIGHT PARENTHESIS           A9  COPYRIGHT SIGN\n",
      "2A  ASTERISK                    AA  FEMININE ORDINAL INDICATOR\n",
      "2B  PLUS SIGN                   AB  LEFT-POINTING DOUBLE ANGLE QUOTATION MARK\n",
      "2C  COMMA                       AC  NOT SIGN\n",
      "2D  HYPHEN-MINUS                AD  SOFT HYPHEN\n",
      "2E  FULL STOP                   AE  REGISTERED SIGN\n",
      "2F  SOLIDUS                     AF  OVERLINE\n",
      "30  DIGIT ZERO                  B0  DEGREE SIGN\n",
      "31  DIGIT ONE                   B1  PLUS-MINUS SIGN\n",
      "32  DIGIT TWO                   B2  SUPERSCRIPT TWO\n",
      "33  DIGIT THREE                 B3  SUPERSCRIPT THREE\n",
      "34  DIGIT FOUR                  B4  ACUTE ACCENT\n",
      "35  DIGIT FIVE                  B5  MICRO SIGN\n",
      "36  DIGIT SIX                   B6  PILCROW SIGN\n",
      "37  DIGIT SEVEN                 B7  MIDDLE DOT\n",
      "38  DIGIT EIGHT                 B8  CEDILLA\n",
      "39  DIGIT NINE                  B9  SUPERSCRIPT ONE\n",
      "3A  COLON                       BA  MASCULINE ORDINAL INDICATOR\n",
      "3B  SEMICOLON                   BB  RIGHT-POINTING DOUBLE ANGLE QUOTATION MARK\n",
      "3C  LESS-THAN SIGN              BC  VULGAR FRACTION ONE QUARTER\n",
      "3D  EQUALS SIGN                 BD  VULGAR FRACTION ONE HALF\n",
      "3E  GREATER-THAN SIGN           BE  VULGAR FRACTION THREE QUARTERS\n",
      "3F  QUESTION MARK               BF  INVERTED QUESTION MARK\n",
      "40  COMMERCIAL AT               C0  CAPITAL LETTER A WITH GRAVE\n",
      "41  CAPITAL LETTER A            C1  CAPITAL LETTER A WITH ACUTE\n",
      "42  CAPITAL LETTER B            C2  CAPITAL LETTER A WITH CIRCUMFLEX\n",
      "43  CAPITAL LETTER C            C3  CAPITAL LETTER A WITH TILDE\n",
      "44  CAPITAL LETTER D            C4  CAPITAL LETTER A WITH DIAERESIS\n",
      "45  CAPITAL LETTER E            C5  CAPITAL LETTER A WITH RING ABOVE\n",
      "46  CAPITAL LETTER F            C6  CAPITAL LETTER AE\n",
      "47  CAPITAL LETTER G            C7  CAPITAL LETTER C WITH CEDILLA\n",
      "48  CAPITAL LETTER H            C8  CAPITAL LETTER E WITH GRAVE\n",
      "49  CAPITAL LETTER I            C9  CAPITAL LETTER E WITH ACUTE\n",
      "4A  CAPITAL LETTER J            CA  CAPITAL LETTER E WITH CIRCUMFLEX\n",
      "4B  CAPITAL LETTER K            CB  CAPITAL LETTER E WITH DIAERESIS\n",
      "4C  CAPITAL LETTER L            CC  CAPITAL LETTER I WITH GRAVE\n",
      "4D  CAPITAL LETTER M            CD  CAPITAL LETTER I WITH ACUTE\n",
      "4E  CAPITAL LETTER N            CE  CAPITAL LETTER I WITH CIRCUMFLEX\n",
      "4F  CAPITAL LETTER O            CF  CAPITAL LETTER I WITH DIAERESIS\n",
      "50  CAPITAL LETTER P            D0  CAPITAL LETTER ETH (Icelandic)\n",
      "51  CAPITAL LETTER Q            D1  CAPITAL LETTER N WITH TILDE\n",
      "52  CAPITAL LETTER R            D2  CAPITAL LETTER O WITH GRAVE\n",
      "53  CAPITAL LETTER S            D3  CAPITAL LETTER O WITH ACUTE\n",
      "54  CAPITAL LETTER T            D4  CAPITAL LETTER O WITH CIRCUMFLEX\n",
      "55  CAPITAL LETTER U            D5  CAPITAL LETTER O WITH TILDE\n",
      "56  CAPITAL LETTER V            D6  CAPITAL LETTER O WITH DIAERESIS\n",
      "57  CAPITAL LETTER W            D7  MULTIPLICATION SIGN\n",
      "58  CAPITAL LETTER X            D8  CAPITAL LETTER O WITH STROKE\n",
      "59  CAPITAL LETTER Y            D9  CAPITAL LETTER U WITH GRAVE\n",
      "5A  CAPITAL LETTER Z            DA  CAPITAL LETTER U WITH ACUTE\n",
      "5B  LEFT SQUARE BRACKET         DB  CAPITAL LETTER U WITH CIRCUMFLEX\n",
      "5C  REVERSE SOLIDUS             DC  CAPITAL LETTER U WITH DIAERESIS\n",
      "5D  RIGHT SQUARE BRACKET        DD  CAPITAL LETTER Y WITH ACUTE\n",
      "5E  CIRCUMFLEX ACCENT           DE  CAPITAL LETTER THORN (Icelandic)\n",
      "5F  LOW LINE                    DF  SMALL LETTER SHARP S (German)\n",
      "60  GRAVE ACCENT                E0  SMALL LETTER A WITH GRAVE\n",
      "61  SMALL LETTER A              E1  SMALL LETTER A WITH ACUTE\n",
      "62  SMALL LETTER B              E2  SMALL LETTER A WITH CIRCUMFLEX\n",
      "63  SMALL LETTER C              E3  SMALL LETTER A WITH TILDE\n",
      "64  SMALL LETTER D              E4  SMALL LETTER A WITH DIAERESIS\n",
      "65  SMALL LETTER E              E5  SMALL LETTER A WITH RING ABOVE\n",
      "66  SMALL LETTER F              E6  SMALL LETTER AE\n",
      "67  SMALL LETTER G              E7  SMALL LETTER C WITH CEDILLA\n",
      "68  SMALL LETTER H              E8  SMALL LETTER E WITH GRAVE\n",
      "69  SMALL LETTER I              E9  SMALL LETTER E WITH ACUTE\n",
      "6A  SMALL LETTER J              EA  SMALL LETTER E WITH CIRCUMFLEX\n",
      "6B  SMALL LETTER K              EB  SMALL LETTER E WITH DIAERESIS\n",
      "6C  SMALL LETTER L              EC  SMALL LETTER I WITH GRAVE\n",
      "6D  SMALL LETTER M              ED  SMALL LETTER I WITH ACUTE\n",
      "6E  SMALL LETTER N              EE  SMALL LETTER I WITH CIRCUMFLEX\n",
      "6F  SMALL LETTER O              EF  SMALL LETTER I WITH DIAERESIS\n",
      "70  SMALL LETTER P              F0  SMALL LETTER ETH (Icelandic)\n",
      "71  SMALL LETTER Q              F1  SMALL LETTER N WITH TILDE\n",
      "72  SMALL LETTER R              F2  SMALL LETTER O WITH GRAVE\n",
      "73  SMALL LETTER S              F3  SMALL LETTER O WITH ACUTE\n",
      "74  SMALL LETTER T              F4  SMALL LETTER O WITH CIRCUMFLEX\n",
      "75  SMALL LETTER U              F5  SMALL LETTER O WITH TILDE\n",
      "76  SMALL LETTER V              F6  SMALL LETTER O WITH DIAERESIS\n",
      "77  SMALL LETTER W              F7  DIVISION SIGN\n",
      "78  SMALL LETTER X              F8  SMALL LETTER O WITH STROKE\n",
      "79  SMALL LETTER Y              F9  SMALL LETTER U WITH GRAVE\n",
      "7A  SMALL LETTER Z              FA  SMALL LETTER U WITH ACUTE\n",
      "7B  LEFT CURLY BRACKET          FB  SMALL LETTER U WITH CIRCUMFLEX\n",
      "7C  VERTICAL LINE               FC  SMALL LETTER U WITH DIAERESIS\n",
      "7D  RIGHT CURLY BRACKET         FD  SMALL LETTER Y WITH ACUTE\n",
      "7E  TILDE                       FE  SMALL LETTER THORN (Icelandic)\n",
      "                                FF  SMALL LETTER Y WITH DIAERESIS\n",
      "\n"
     ]
    }
   ],
   "source": [
    "print(file_contents)"
   ]
  },
  {
   "cell_type": "code",
   "execution_count": 15,
   "metadata": {},
   "outputs": [],
   "source": [
    "#csv =comma seperated values\n",
    "file.close()\n",
    "#once close it cant be read\n"
   ]
  },
  {
   "cell_type": "code",
   "execution_count": 16,
   "metadata": {},
   "outputs": [
    {
     "ename": "ValueError",
     "evalue": "I/O operation on closed file.",
     "output_type": "error",
     "traceback": [
      "\u001b[1;31m---------------------------------------------------------------------------\u001b[0m",
      "\u001b[1;31mValueError\u001b[0m                                Traceback (most recent call last)",
      "\u001b[1;32m<ipython-input-16-f3fc120c03c1>\u001b[0m in \u001b[0;36m<module>\u001b[1;34m\u001b[0m\n\u001b[1;32m----> 1\u001b[1;33m \u001b[0mfile\u001b[0m\u001b[1;33m.\u001b[0m\u001b[0mread\u001b[0m\u001b[1;33m(\u001b[0m\u001b[1;33m)\u001b[0m\u001b[1;33m\u001b[0m\u001b[1;33m\u001b[0m\u001b[0m\n\u001b[0m",
      "\u001b[1;31mValueError\u001b[0m: I/O operation on closed file."
     ]
    }
   ],
   "source": [
    "file.read()"
   ]
  },
  {
   "cell_type": "markdown",
   "metadata": {},
   "source": [
    "# CSV files"
   ]
  },
  {
   "cell_type": "code",
   "execution_count": 17,
   "metadata": {},
   "outputs": [
    {
     "name": "stdout",
     "output_type": "stream",
     "text": [
      "The following are the graphical (non-control) characters defined by\n",
      "ISO 8859-1 (1987).  Descriptions in words aren't all that helpful,\n",
      "but they're the best we can do in text.  A graphics file illustrating\n",
      "the character set should be available from the same archive as this\n",
      "file.\n",
      "\n",
      "Hex Description                 Hex Description\n",
      "\n",
      "20  SPACE\n",
      "21  EXCLAMATION MARK            A1  INVERTED EXCLAMATION MARK\n",
      "22  QUOTATION MARK              A2  CENT SIGN\n",
      "23  NUMBER SIGN                 A3  POUND SIGN\n",
      "24  DOLLAR SIGN                 A4  CURRENCY SIGN\n",
      "25  PERCENT SIGN                A5  YEN SIGN\n",
      "26  AMPERSAND                   A6  BROKEN BAR\n",
      "27  APOSTROPHE                  A7  SECTION SIGN\n",
      "28  LEFT PARENTHESIS            A8  DIAERESIS\n",
      "29  RIGHT PARENTHESIS           A9  COPYRIGHT SIGN\n",
      "2A  ASTERISK                    AA  FEMININE ORDINAL INDICATOR\n",
      "2B  PLUS SIGN                   AB  LEFT-POINTING DOUBLE ANGLE QUOTATION MARK\n",
      "2C  COMMA                       AC  NOT SIGN\n",
      "2D  HYPHEN-MINUS                AD  SOFT HYPHEN\n",
      "2E  FULL STOP                   AE  REGISTERED SIGN\n",
      "2F  SOLIDUS                     AF  OVERLINE\n",
      "30  DIGIT ZERO                  B0  DEGREE SIGN\n",
      "31  DIGIT ONE                   B1  PLUS-MINUS SIGN\n",
      "32  DIGIT TWO                   B2  SUPERSCRIPT TWO\n",
      "33  DIGIT THREE                 B3  SUPERSCRIPT THREE\n",
      "34  DIGIT FOUR                  B4  ACUTE ACCENT\n",
      "35  DIGIT FIVE                  B5  MICRO SIGN\n",
      "36  DIGIT SIX                   B6  PILCROW SIGN\n",
      "37  DIGIT SEVEN                 B7  MIDDLE DOT\n",
      "38  DIGIT EIGHT                 B8  CEDILLA\n",
      "39  DIGIT NINE                  B9  SUPERSCRIPT ONE\n",
      "3A  COLON                       BA  MASCULINE ORDINAL INDICATOR\n",
      "3B  SEMICOLON                   BB  RIGHT-POINTING DOUBLE ANGLE QUOTATION MARK\n",
      "3C  LESS-THAN SIGN              BC  VULGAR FRACTION ONE QUARTER\n",
      "3D  EQUALS SIGN                 BD  VULGAR FRACTION ONE HALF\n",
      "3E  GREATER-THAN SIGN           BE  VULGAR FRACTION THREE QUARTERS\n",
      "3F  QUESTION MARK               BF  INVERTED QUESTION MARK\n",
      "40  COMMERCIAL AT               C0  CAPITAL LETTER A WITH GRAVE\n",
      "41  CAPITAL LETTER A            C1  CAPITAL LETTER A WITH ACUTE\n",
      "42  CAPITAL LETTER B            C2  CAPITAL LETTER A WITH CIRCUMFLEX\n",
      "43  CAPITAL LETTER C            C3  CAPITAL LETTER A WITH TILDE\n",
      "44  CAPITAL LETTER D            C4  CAPITAL LETTER A WITH DIAERESIS\n",
      "45  CAPITAL LETTER E            C5  CAPITAL LETTER A WITH RING ABOVE\n",
      "46  CAPITAL LETTER F            C6  CAPITAL LETTER AE\n",
      "47  CAPITAL LETTER G            C7  CAPITAL LETTER C WITH CEDILLA\n",
      "48  CAPITAL LETTER H            C8  CAPITAL LETTER E WITH GRAVE\n",
      "49  CAPITAL LETTER I            C9  CAPITAL LETTER E WITH ACUTE\n",
      "4A  CAPITAL LETTER J            CA  CAPITAL LETTER E WITH CIRCUMFLEX\n",
      "4B  CAPITAL LETTER K            CB  CAPITAL LETTER E WITH DIAERESIS\n",
      "4C  CAPITAL LETTER L            CC  CAPITAL LETTER I WITH GRAVE\n",
      "4D  CAPITAL LETTER M            CD  CAPITAL LETTER I WITH ACUTE\n",
      "4E  CAPITAL LETTER N            CE  CAPITAL LETTER I WITH CIRCUMFLEX\n",
      "4F  CAPITAL LETTER O            CF  CAPITAL LETTER I WITH DIAERESIS\n",
      "50  CAPITAL LETTER P            D0  CAPITAL LETTER ETH (Icelandic)\n",
      "51  CAPITAL LETTER Q            D1  CAPITAL LETTER N WITH TILDE\n",
      "52  CAPITAL LETTER R            D2  CAPITAL LETTER O WITH GRAVE\n",
      "53  CAPITAL LETTER S            D3  CAPITAL LETTER O WITH ACUTE\n",
      "54  CAPITAL LETTER T            D4  CAPITAL LETTER O WITH CIRCUMFLEX\n",
      "55  CAPITAL LETTER U            D5  CAPITAL LETTER O WITH TILDE\n",
      "56  CAPITAL LETTER V            D6  CAPITAL LETTER O WITH DIAERESIS\n",
      "57  CAPITAL LETTER W            D7  MULTIPLICATION SIGN\n",
      "58  CAPITAL LETTER X            D8  CAPITAL LETTER O WITH STROKE\n",
      "59  CAPITAL LETTER Y            D9  CAPITAL LETTER U WITH GRAVE\n",
      "5A  CAPITAL LETTER Z            DA  CAPITAL LETTER U WITH ACUTE\n",
      "5B  LEFT SQUARE BRACKET         DB  CAPITAL LETTER U WITH CIRCUMFLEX\n",
      "5C  REVERSE SOLIDUS             DC  CAPITAL LETTER U WITH DIAERESIS\n",
      "5D  RIGHT SQUARE BRACKET        DD  CAPITAL LETTER Y WITH ACUTE\n",
      "5E  CIRCUMFLEX ACCENT           DE  CAPITAL LETTER THORN (Icelandic)\n",
      "5F  LOW LINE                    DF  SMALL LETTER SHARP S (German)\n",
      "60  GRAVE ACCENT                E0  SMALL LETTER A WITH GRAVE\n",
      "61  SMALL LETTER A              E1  SMALL LETTER A WITH ACUTE\n",
      "62  SMALL LETTER B              E2  SMALL LETTER A WITH CIRCUMFLEX\n",
      "63  SMALL LETTER C              E3  SMALL LETTER A WITH TILDE\n",
      "64  SMALL LETTER D              E4  SMALL LETTER A WITH DIAERESIS\n",
      "65  SMALL LETTER E              E5  SMALL LETTER A WITH RING ABOVE\n",
      "66  SMALL LETTER F              E6  SMALL LETTER AE\n",
      "67  SMALL LETTER G              E7  SMALL LETTER C WITH CEDILLA\n",
      "68  SMALL LETTER H              E8  SMALL LETTER E WITH GRAVE\n",
      "69  SMALL LETTER I              E9  SMALL LETTER E WITH ACUTE\n",
      "6A  SMALL LETTER J              EA  SMALL LETTER E WITH CIRCUMFLEX\n",
      "6B  SMALL LETTER K              EB  SMALL LETTER E WITH DIAERESIS\n",
      "6C  SMALL LETTER L              EC  SMALL LETTER I WITH GRAVE\n",
      "6D  SMALL LETTER M              ED  SMALL LETTER I WITH ACUTE\n",
      "6E  SMALL LETTER N              EE  SMALL LETTER I WITH CIRCUMFLEX\n",
      "6F  SMALL LETTER O              EF  SMALL LETTER I WITH DIAERESIS\n",
      "70  SMALL LETTER P              F0  SMALL LETTER ETH (Icelandic)\n",
      "71  SMALL LETTER Q              F1  SMALL LETTER N WITH TILDE\n",
      "72  SMALL LETTER R              F2  SMALL LETTER O WITH GRAVE\n",
      "73  SMALL LETTER S              F3  SMALL LETTER O WITH ACUTE\n",
      "74  SMALL LETTER T              F4  SMALL LETTER O WITH CIRCUMFLEX\n",
      "75  SMALL LETTER U              F5  SMALL LETTER O WITH TILDE\n",
      "76  SMALL LETTER V              F6  SMALL LETTER O WITH DIAERESIS\n",
      "77  SMALL LETTER W              F7  DIVISION SIGN\n",
      "78  SMALL LETTER X              F8  SMALL LETTER O WITH STROKE\n",
      "79  SMALL LETTER Y              F9  SMALL LETTER U WITH GRAVE\n",
      "7A  SMALL LETTER Z              FA  SMALL LETTER U WITH ACUTE\n",
      "7B  LEFT CURLY BRACKET          FB  SMALL LETTER U WITH CIRCUMFLEX\n",
      "7C  VERTICAL LINE               FC  SMALL LETTER U WITH DIAERESIS\n",
      "7D  RIGHT CURLY BRACKET         FD  SMALL LETTER Y WITH ACUTE\n",
      "7E  TILDE                       FE  SMALL LETTER THORN (Icelandic)\n",
      "                                FF  SMALL LETTER Y WITH DIAERESIS\n",
      "\n"
     ]
    }
   ],
   "source": [
    "with open('./data/sampletextfile.txt') as file2:\n",
    "    file2_contents=file2.read()\n",
    "    print(file2_contents)\n",
    "    \n",
    "#the with loop here automatically closes the file after its job is done \n",
    "# we dont need to write close statement here\n",
    "#by default read mode otherwise we can specify the mode if we want\n"
   ]
  },
  {
   "cell_type": "code",
   "execution_count": 18,
   "metadata": {},
   "outputs": [
    {
     "ename": "ValueError",
     "evalue": "I/O operation on closed file.",
     "output_type": "error",
     "traceback": [
      "\u001b[1;31m---------------------------------------------------------------------------\u001b[0m",
      "\u001b[1;31mValueError\u001b[0m                                Traceback (most recent call last)",
      "\u001b[1;32m<ipython-input-18-1ab15c1bad90>\u001b[0m in \u001b[0;36m<module>\u001b[1;34m\u001b[0m\n\u001b[1;32m----> 1\u001b[1;33m \u001b[0mfile2\u001b[0m\u001b[1;33m.\u001b[0m\u001b[0mread\u001b[0m\u001b[1;33m(\u001b[0m\u001b[1;33m)\u001b[0m\u001b[1;33m\u001b[0m\u001b[1;33m\u001b[0m\u001b[0m\n\u001b[0m\u001b[0;32m      2\u001b[0m \u001b[1;31m#error because the file is automatically closed\u001b[0m\u001b[1;33m\u001b[0m\u001b[1;33m\u001b[0m\u001b[1;33m\u001b[0m\u001b[0m\n",
      "\u001b[1;31mValueError\u001b[0m: I/O operation on closed file."
     ]
    }
   ],
   "source": [
    "file2.read()\n",
    "#error because the file is automatically closed"
   ]
  },
  {
   "cell_type": "code",
   "execution_count": 19,
   "metadata": {},
   "outputs": [
    {
     "name": "stdout",
     "output_type": "stream",
     "text": [
      "['The following are the graphical (non-control) characters defined by\\n', \"ISO 8859-1 (1987).  Descriptions in words aren't all that helpful,\\n\", \"but they're the best we can do in text.  A graphics file illustrating\\n\", 'the character set should be available from the same archive as this\\n', 'file.\\n', '\\n', 'Hex Description                 Hex Description\\n', '\\n', '20  SPACE\\n', '21  EXCLAMATION MARK            A1  INVERTED EXCLAMATION MARK\\n', '22  QUOTATION MARK              A2  CENT SIGN\\n', '23  NUMBER SIGN                 A3  POUND SIGN\\n', '24  DOLLAR SIGN                 A4  CURRENCY SIGN\\n', '25  PERCENT SIGN                A5  YEN SIGN\\n', '26  AMPERSAND                   A6  BROKEN BAR\\n', '27  APOSTROPHE                  A7  SECTION SIGN\\n', '28  LEFT PARENTHESIS            A8  DIAERESIS\\n', '29  RIGHT PARENTHESIS           A9  COPYRIGHT SIGN\\n', '2A  ASTERISK                    AA  FEMININE ORDINAL INDICATOR\\n', '2B  PLUS SIGN                   AB  LEFT-POINTING DOUBLE ANGLE QUOTATION MARK\\n', '2C  COMMA                       AC  NOT SIGN\\n', '2D  HYPHEN-MINUS                AD  SOFT HYPHEN\\n', '2E  FULL STOP                   AE  REGISTERED SIGN\\n', '2F  SOLIDUS                     AF  OVERLINE\\n', '30  DIGIT ZERO                  B0  DEGREE SIGN\\n', '31  DIGIT ONE                   B1  PLUS-MINUS SIGN\\n', '32  DIGIT TWO                   B2  SUPERSCRIPT TWO\\n', '33  DIGIT THREE                 B3  SUPERSCRIPT THREE\\n', '34  DIGIT FOUR                  B4  ACUTE ACCENT\\n', '35  DIGIT FIVE                  B5  MICRO SIGN\\n', '36  DIGIT SIX                   B6  PILCROW SIGN\\n', '37  DIGIT SEVEN                 B7  MIDDLE DOT\\n', '38  DIGIT EIGHT                 B8  CEDILLA\\n', '39  DIGIT NINE                  B9  SUPERSCRIPT ONE\\n', '3A  COLON                       BA  MASCULINE ORDINAL INDICATOR\\n', '3B  SEMICOLON                   BB  RIGHT-POINTING DOUBLE ANGLE QUOTATION MARK\\n', '3C  LESS-THAN SIGN              BC  VULGAR FRACTION ONE QUARTER\\n', '3D  EQUALS SIGN                 BD  VULGAR FRACTION ONE HALF\\n', '3E  GREATER-THAN SIGN           BE  VULGAR FRACTION THREE QUARTERS\\n', '3F  QUESTION MARK               BF  INVERTED QUESTION MARK\\n', '40  COMMERCIAL AT               C0  CAPITAL LETTER A WITH GRAVE\\n', '41  CAPITAL LETTER A            C1  CAPITAL LETTER A WITH ACUTE\\n', '42  CAPITAL LETTER B            C2  CAPITAL LETTER A WITH CIRCUMFLEX\\n', '43  CAPITAL LETTER C            C3  CAPITAL LETTER A WITH TILDE\\n', '44  CAPITAL LETTER D            C4  CAPITAL LETTER A WITH DIAERESIS\\n', '45  CAPITAL LETTER E            C5  CAPITAL LETTER A WITH RING ABOVE\\n', '46  CAPITAL LETTER F            C6  CAPITAL LETTER AE\\n', '47  CAPITAL LETTER G            C7  CAPITAL LETTER C WITH CEDILLA\\n', '48  CAPITAL LETTER H            C8  CAPITAL LETTER E WITH GRAVE\\n', '49  CAPITAL LETTER I            C9  CAPITAL LETTER E WITH ACUTE\\n', '4A  CAPITAL LETTER J            CA  CAPITAL LETTER E WITH CIRCUMFLEX\\n', '4B  CAPITAL LETTER K            CB  CAPITAL LETTER E WITH DIAERESIS\\n', '4C  CAPITAL LETTER L            CC  CAPITAL LETTER I WITH GRAVE\\n', '4D  CAPITAL LETTER M            CD  CAPITAL LETTER I WITH ACUTE\\n', '4E  CAPITAL LETTER N            CE  CAPITAL LETTER I WITH CIRCUMFLEX\\n', '4F  CAPITAL LETTER O            CF  CAPITAL LETTER I WITH DIAERESIS\\n', '50  CAPITAL LETTER P            D0  CAPITAL LETTER ETH (Icelandic)\\n', '51  CAPITAL LETTER Q            D1  CAPITAL LETTER N WITH TILDE\\n', '52  CAPITAL LETTER R            D2  CAPITAL LETTER O WITH GRAVE\\n', '53  CAPITAL LETTER S            D3  CAPITAL LETTER O WITH ACUTE\\n', '54  CAPITAL LETTER T            D4  CAPITAL LETTER O WITH CIRCUMFLEX\\n', '55  CAPITAL LETTER U            D5  CAPITAL LETTER O WITH TILDE\\n', '56  CAPITAL LETTER V            D6  CAPITAL LETTER O WITH DIAERESIS\\n', '57  CAPITAL LETTER W            D7  MULTIPLICATION SIGN\\n', '58  CAPITAL LETTER X            D8  CAPITAL LETTER O WITH STROKE\\n', '59  CAPITAL LETTER Y            D9  CAPITAL LETTER U WITH GRAVE\\n', '5A  CAPITAL LETTER Z            DA  CAPITAL LETTER U WITH ACUTE\\n', '5B  LEFT SQUARE BRACKET         DB  CAPITAL LETTER U WITH CIRCUMFLEX\\n', '5C  REVERSE SOLIDUS             DC  CAPITAL LETTER U WITH DIAERESIS\\n', '5D  RIGHT SQUARE BRACKET        DD  CAPITAL LETTER Y WITH ACUTE\\n', '5E  CIRCUMFLEX ACCENT           DE  CAPITAL LETTER THORN (Icelandic)\\n', '5F  LOW LINE                    DF  SMALL LETTER SHARP S (German)\\n', '60  GRAVE ACCENT                E0  SMALL LETTER A WITH GRAVE\\n', '61  SMALL LETTER A              E1  SMALL LETTER A WITH ACUTE\\n', '62  SMALL LETTER B              E2  SMALL LETTER A WITH CIRCUMFLEX\\n', '63  SMALL LETTER C              E3  SMALL LETTER A WITH TILDE\\n', '64  SMALL LETTER D              E4  SMALL LETTER A WITH DIAERESIS\\n', '65  SMALL LETTER E              E5  SMALL LETTER A WITH RING ABOVE\\n', '66  SMALL LETTER F              E6  SMALL LETTER AE\\n', '67  SMALL LETTER G              E7  SMALL LETTER C WITH CEDILLA\\n', '68  SMALL LETTER H              E8  SMALL LETTER E WITH GRAVE\\n', '69  SMALL LETTER I              E9  SMALL LETTER E WITH ACUTE\\n', '6A  SMALL LETTER J              EA  SMALL LETTER E WITH CIRCUMFLEX\\n', '6B  SMALL LETTER K              EB  SMALL LETTER E WITH DIAERESIS\\n', '6C  SMALL LETTER L              EC  SMALL LETTER I WITH GRAVE\\n', '6D  SMALL LETTER M              ED  SMALL LETTER I WITH ACUTE\\n', '6E  SMALL LETTER N              EE  SMALL LETTER I WITH CIRCUMFLEX\\n', '6F  SMALL LETTER O              EF  SMALL LETTER I WITH DIAERESIS\\n', '70  SMALL LETTER P              F0  SMALL LETTER ETH (Icelandic)\\n', '71  SMALL LETTER Q              F1  SMALL LETTER N WITH TILDE\\n', '72  SMALL LETTER R              F2  SMALL LETTER O WITH GRAVE\\n', '73  SMALL LETTER S              F3  SMALL LETTER O WITH ACUTE\\n', '74  SMALL LETTER T              F4  SMALL LETTER O WITH CIRCUMFLEX\\n', '75  SMALL LETTER U              F5  SMALL LETTER O WITH TILDE\\n', '76  SMALL LETTER V              F6  SMALL LETTER O WITH DIAERESIS\\n', '77  SMALL LETTER W              F7  DIVISION SIGN\\n', '78  SMALL LETTER X              F8  SMALL LETTER O WITH STROKE\\n', '79  SMALL LETTER Y              F9  SMALL LETTER U WITH GRAVE\\n', '7A  SMALL LETTER Z              FA  SMALL LETTER U WITH ACUTE\\n', '7B  LEFT CURLY BRACKET          FB  SMALL LETTER U WITH CIRCUMFLEX\\n', '7C  VERTICAL LINE               FC  SMALL LETTER U WITH DIAERESIS\\n', '7D  RIGHT CURLY BRACKET         FD  SMALL LETTER Y WITH ACUTE\\n', '7E  TILDE                       FE  SMALL LETTER THORN (Icelandic)\\n', '                                FF  SMALL LETTER Y WITH DIAERESIS\\n']\n"
     ]
    }
   ],
   "source": [
    "with open('./data/sampletextfile.txt') as file3:\n",
    "    file3_contents_byline=file3.readlines()\n",
    "    print(file3_contents_byline)\n",
    "    \n",
    "#read contents by line and stores it in list of strings"
   ]
  },
  {
   "cell_type": "code",
   "execution_count": 20,
   "metadata": {},
   "outputs": [
    {
     "data": {
      "text/plain": [
       "\"ISO 8859-1 (1987).  Descriptions in words aren't all that helpful,\\n\""
      ]
     },
     "execution_count": 20,
     "metadata": {},
     "output_type": "execute_result"
    }
   ],
   "source": [
    " file3_contents_byline[1] "
   ]
  },
  {
   "cell_type": "code",
   "execution_count": 21,
   "metadata": {},
   "outputs": [
    {
     "data": {
      "text/plain": [
       "\"ISO 8859-1 (1987).  Descriptions in words aren't all that helpful,\""
      ]
     },
     "execution_count": 21,
     "metadata": {},
     "output_type": "execute_result"
    }
   ],
   "source": [
    "#if we want to rempve the last \\n characher\n",
    "#we use .strip()\n",
    "file3_contents_byline[1].strip()"
   ]
  },
  {
   "cell_type": "markdown",
   "metadata": {},
   "source": [
    "# #Processing data from files "
   ]
  },
  {
   "cell_type": "code",
   "execution_count": 22,
   "metadata": {},
   "outputs": [
    {
     "data": {
      "text/plain": [
       "['.ipynb_checkpoints',\n",
       " 'Classes and modules.ipynb',\n",
       " 'data',\n",
       " 'demo1.txt',\n",
       " 'demo2.txt',\n",
       " 'Files.ipynb',\n",
       " 'insurance.csv',\n",
       " 'ml day 1 intro.ipynb',\n",
       " 'ML_Intro.ipynb',\n",
       " 'new_comp.zip',\n",
       " 'numpy .ipynb',\n",
       " 'Numpy.ipynb',\n",
       " 'Pandas.ipynb',\n",
       " 'python day2.ipynb',\n",
       " 'this is your extraccted content']"
      ]
     },
     "execution_count": 22,
     "metadata": {},
     "output_type": "execute_result"
    }
   ],
   "source": [
    "os.listdir()"
   ]
  },
  {
   "cell_type": "code",
   "execution_count": 24,
   "metadata": {},
   "outputs": [
    {
     "data": {
      "text/plain": [
       "'C:\\\\Users\\\\harsh\\\\Desktop\\\\jupyter codes'"
      ]
     },
     "execution_count": 24,
     "metadata": {},
     "output_type": "execute_result"
    }
   ],
   "source": [
    "os.getcwd()"
   ]
  },
  {
   "cell_type": "code",
   "execution_count": 40,
   "metadata": {},
   "outputs": [
    {
     "name": "stdout",
     "output_type": "stream",
     "text": [
      "amount,duration,rate,down_payment\n",
      "828400,120,0.11,100000\n",
      "4633400,240,0.06,\n",
      "42900,90,0.08,8900\n",
      "983000,16,0.14,\n",
      "15230,48,0.07,4300\n",
      "[]\n"
     ]
    }
   ],
   "source": [
    "with open('C:\\\\Users\\\\harsh\\\\Downloads\\\\Python AI ML Resources\\\\python-os-and-filesystem-v-9\\\\loan.txt') as file:\n",
    "    file_contents=file.read()\n",
    "    file_line_content=file.readlines()\n",
    "    print(file_contents)\n",
    "    \n",
    " #file contents   \n",
    "    "
   ]
  },
  {
   "cell_type": "code",
   "execution_count": 42,
   "metadata": {},
   "outputs": [
    {
     "name": "stdout",
     "output_type": "stream",
     "text": [
      "['amount,duration,rate,down_payment\\n', '828400,120,0.11,100000\\n', '4633400,240,0.06,\\n', '42900,90,0.08,8900\\n', '983000,16,0.14,\\n', '15230,48,0.07,4300']\n"
     ]
    }
   ],
   "source": [
    "with open('C:\\\\Users\\\\harsh\\\\Downloads\\\\Python AI ML Resources\\\\python-os-and-filesystem-v-9\\\\loan.txt') as file:\n",
    "    file_line_content=file.readlines()\n",
    "    print(file_line_content)\n",
    "    \n",
    "#file contents by line "
   ]
  },
  {
   "cell_type": "code",
   "execution_count": null,
   "metadata": {},
   "outputs": [],
   "source": []
  },
  {
   "cell_type": "markdown",
   "metadata": {},
   "source": [
    "idea is to make a list of dictionary of  all the values.\n",
    "in the dictionary key will be column name and vale will be column value\n"
   ]
  },
  {
   "cell_type": "code",
   "execution_count": 48,
   "metadata": {},
   "outputs": [],
   "source": [
    "def parse_headers(header_line):\n",
    "    return header_line.strip().split(',')\n",
    "#a helper funtion to retrieve all the column names from the first line\n"
   ]
  },
  {
   "cell_type": "code",
   "execution_count": 51,
   "metadata": {},
   "outputs": [],
   "source": [
    "headers=parse_headers(file_line_content[0])"
   ]
  },
  {
   "cell_type": "code",
   "execution_count": 52,
   "metadata": {},
   "outputs": [
    {
     "name": "stdout",
     "output_type": "stream",
     "text": [
      "['amount', 'duration', 'rate', 'down_payment']\n"
     ]
    }
   ],
   "source": [
    "print(headers)"
   ]
  },
  {
   "cell_type": "raw",
   "metadata": {},
   "source": [
    "# define a function parse values such that it takes line contaiing data and store it in \n",
    "list of floating point number"
   ]
  },
  {
   "cell_type": "code",
   "execution_count": 54,
   "metadata": {},
   "outputs": [],
   "source": [
    "def parse_values(data_line):\n",
    "    #for item in data_line.strip().split(','):\n",
    "        #values.append(float(item))\n",
    "    #return values\n",
    "    return data_line.strip().split(',')\n",
    "\n",
    "#if we want to make all our numbers in float we can uncomment and make it"
   ]
  },
  {
   "cell_type": "code",
   "execution_count": 56,
   "metadata": {},
   "outputs": [
    {
     "data": {
      "text/plain": [
       "['828400', '120', '0.11', '100000']"
      ]
     },
     "execution_count": 56,
     "metadata": {},
     "output_type": "execute_result"
    }
   ],
   "source": [
    "parse_values(file_line_content[1])\n",
    "# this is a string not integers"
   ]
  },
  {
   "cell_type": "code",
   "execution_count": null,
   "metadata": {},
   "outputs": [],
   "source": [
    "to handle empty strings \n",
    "we need to modify our parse_values funtion\n",
    "otherwise it will give an error "
   ]
  },
  {
   "cell_type": "code",
   "execution_count": 69,
   "metadata": {},
   "outputs": [],
   "source": [
    "def corrected_parse_values(data_line):\n",
    "    values=[]\n",
    "    for i in data_line.strip().split(','):\n",
    "        if i=='':\n",
    "            values.append(0.0)\n",
    "        else:\n",
    "            values.append(float(i))\n",
    "    return values"
   ]
  },
  {
   "cell_type": "code",
   "execution_count": 61,
   "metadata": {},
   "outputs": [
    {
     "name": "stdout",
     "output_type": "stream",
     "text": [
      "amount,duration,rate,down_payment\n",
      "828400,120,0.11,100000\n",
      "4633400,240,0.06,\n",
      "42900,90,0.08,8900\n",
      "983000,16,0.14,\n",
      "15230,48,0.07,4300\n"
     ]
    }
   ],
   "source": [
    "print(file_contents)\n",
    "#for ex here in line 3\n",
    "#we have a misssing value for downpayment which will be replaced by 0.0 using corrected_parse_values"
   ]
  },
  {
   "cell_type": "code",
   "execution_count": 63,
   "metadata": {},
   "outputs": [
    {
     "data": {
      "text/plain": [
       "['4633400', '240', '0.06', '']"
      ]
     },
     "execution_count": 63,
     "metadata": {},
     "output_type": "execute_result"
    }
   ],
   "source": [
    "parse_values(file_line_content[2])\n",
    "#here its a string and empty string"
   ]
  },
  {
   "cell_type": "code",
   "execution_count": 70,
   "metadata": {},
   "outputs": [
    {
     "data": {
      "text/plain": [
       "[4633400.0, 240.0, 0.06, 0.0]"
      ]
     },
     "execution_count": 70,
     "metadata": {},
     "output_type": "execute_result"
    }
   ],
   "source": [
    "corrected_parse_values(file_line_content[2])\n",
    "# this is integer values and empty string is replav=ced by 0.0"
   ]
  },
  {
   "cell_type": "markdown",
   "metadata": {},
   "source": [
    "now we will create a dictionary using our headers and corrected parsed values\n"
   ]
  },
  {
   "cell_type": "code",
   "execution_count": 72,
   "metadata": {},
   "outputs": [],
   "source": [
    "def create_item_dict(headers,values):\n",
    "    result={}\n",
    "    for value,header in zip(values,headers):\n",
    "        result[header]=value\n",
    "    return result"
   ]
  },
  {
   "cell_type": "code",
   "execution_count": 73,
   "metadata": {},
   "outputs": [
    {
     "data": {
      "text/plain": [
       "{'amount': '4', 'duration': '6', 'rate': '3', 'down_payment': '3'}"
      ]
     },
     "execution_count": 73,
     "metadata": {},
     "output_type": "execute_result"
    }
   ],
   "source": [
    "create_item_dict(headers,file_line_content[2])\n"
   ]
  },
  {
   "cell_type": "markdown",
   "metadata": {},
   "source": [
    "compile all the things in one function to accept raw data and give us proper structured list of dictionary "
   ]
  },
  {
   "cell_type": "code",
   "execution_count": 79,
   "metadata": {},
   "outputs": [],
   "source": [
    "def read_csv(path):\n",
    "    result=[]\n",
    "    with open(path) as file:\n",
    "        file_line=file.readlines()\n",
    "        headers=parse_headers(file_line[0])\n",
    "        for data in file_line[1:]:\n",
    "            values=corrected_parse_values(data)\n",
    "            item_dict=create_item_dict(headers,values)\n",
    "            \n",
    "            result.append(item_dict)\n",
    "    return result\n",
    "        "
   ]
  },
  {
   "cell_type": "code",
   "execution_count": 83,
   "metadata": {},
   "outputs": [
    {
     "data": {
      "text/plain": [
       "[{'amount': 828400.0,\n",
       "  'duration': 120.0,\n",
       "  'rate': 0.11,\n",
       "  'down_payment': 100000.0},\n",
       " {'amount': 4633400.0, 'duration': 240.0, 'rate': 0.06, 'down_payment': 0.0},\n",
       " {'amount': 42900.0, 'duration': 90.0, 'rate': 0.08, 'down_payment': 8900.0},\n",
       " {'amount': 983000.0, 'duration': 16.0, 'rate': 0.14, 'down_payment': 0.0},\n",
       " {'amount': 15230.0, 'duration': 48.0, 'rate': 0.07, 'down_payment': 4300.0}]"
      ]
     },
     "execution_count": 83,
     "metadata": {},
     "output_type": "execute_result"
    }
   ],
   "source": [
    "read_csv('C:\\\\Users\\\\harsh\\\\Downloads\\\\Python AI ML Resources\\\\python-os-and-filesystem-v-9\\\\loan.txt')"
   ]
  },
  {
   "cell_type": "code",
   "execution_count": null,
   "metadata": {},
   "outputs": [],
   "source": [
    "def header_lines(header_line):\n",
    "    headers=header_line.strip().split(',')\n",
    "    return header"
   ]
  },
  {
   "cell_type": "code",
   "execution_count": null,
   "metadata": {},
   "outputs": [],
   "source": []
  }
 ],
 "metadata": {
  "kernelspec": {
   "display_name": "Python 3",
   "language": "python",
   "name": "python3"
  },
  "language_info": {
   "codemirror_mode": {
    "name": "ipython",
    "version": 3
   },
   "file_extension": ".py",
   "mimetype": "text/x-python",
   "name": "python",
   "nbconvert_exporter": "python",
   "pygments_lexer": "ipython3",
   "version": "3.9.5"
  }
 },
 "nbformat": 4,
 "nbformat_minor": 4
}
