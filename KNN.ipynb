{
  "nbformat": 4,
  "nbformat_minor": 0,
  "metadata": {
    "kernelspec": {
      "display_name": "Python 3",
      "language": "python",
      "name": "python3"
    },
    "language_info": {
      "codemirror_mode": {
        "name": "ipython",
        "version": 3
      },
      "file_extension": ".py",
      "mimetype": "text/x-python",
      "name": "python",
      "nbconvert_exporter": "python",
      "pygments_lexer": "ipython3",
      "version": "3.8.5"
    },
    "colab": {
      "name": "KNN.ipynb",
      "provenance": [],
      "include_colab_link": true
    }
  },
  "cells": [
    {
      "cell_type": "markdown",
      "metadata": {
        "id": "view-in-github",
        "colab_type": "text"
      },
      "source": [
        "<a href=\"https://colab.research.google.com/github/harshchan/AI-ML-python-codes/blob/main/KNN.ipynb\" target=\"_parent\"><img src=\"https://colab.research.google.com/assets/colab-badge.svg\" alt=\"Open In Colab\"/></a>"
      ]
    },
    {
      "cell_type": "markdown",
      "metadata": {
        "id": "3pl6fQ-1kLMD"
      },
      "source": [
        "# KNN Classification"
      ]
    },
    {
      "cell_type": "markdown",
      "metadata": {
        "id": "fTUUCzQZkLMJ"
      },
      "source": [
        "## Import Dataset"
      ]
    },
    {
      "cell_type": "code",
      "metadata": {
        "id": "NZ3j9AlRkLMJ"
      },
      "source": [
        "from sklearn.datasets import load_iris\n",
        "data = load_iris()"
      ],
      "execution_count": 1,
      "outputs": []
    },
    {
      "cell_type": "code",
      "metadata": {
        "colab": {
          "base_uri": "https://localhost:8080/"
        },
        "id": "AuD8niHbkLMK",
        "outputId": "8dad02f0-b2a5-472b-fcb8-e78d60eefc07"
      },
      "source": [
        "print(data.DESCR)"
      ],
      "execution_count": 2,
      "outputs": [
        {
          "output_type": "stream",
          "text": [
            ".. _iris_dataset:\n",
            "\n",
            "Iris plants dataset\n",
            "--------------------\n",
            "\n",
            "**Data Set Characteristics:**\n",
            "\n",
            "    :Number of Instances: 150 (50 in each of three classes)\n",
            "    :Number of Attributes: 4 numeric, predictive attributes and the class\n",
            "    :Attribute Information:\n",
            "        - sepal length in cm\n",
            "        - sepal width in cm\n",
            "        - petal length in cm\n",
            "        - petal width in cm\n",
            "        - class:\n",
            "                - Iris-Setosa\n",
            "                - Iris-Versicolour\n",
            "                - Iris-Virginica\n",
            "                \n",
            "    :Summary Statistics:\n",
            "\n",
            "    ============== ==== ==== ======= ===== ====================\n",
            "                    Min  Max   Mean    SD   Class Correlation\n",
            "    ============== ==== ==== ======= ===== ====================\n",
            "    sepal length:   4.3  7.9   5.84   0.83    0.7826\n",
            "    sepal width:    2.0  4.4   3.05   0.43   -0.4194\n",
            "    petal length:   1.0  6.9   3.76   1.76    0.9490  (high!)\n",
            "    petal width:    0.1  2.5   1.20   0.76    0.9565  (high!)\n",
            "    ============== ==== ==== ======= ===== ====================\n",
            "\n",
            "    :Missing Attribute Values: None\n",
            "    :Class Distribution: 33.3% for each of 3 classes.\n",
            "    :Creator: R.A. Fisher\n",
            "    :Donor: Michael Marshall (MARSHALL%PLU@io.arc.nasa.gov)\n",
            "    :Date: July, 1988\n",
            "\n",
            "The famous Iris database, first used by Sir R.A. Fisher. The dataset is taken\n",
            "from Fisher's paper. Note that it's the same as in R, but not as in the UCI\n",
            "Machine Learning Repository, which has two wrong data points.\n",
            "\n",
            "This is perhaps the best known database to be found in the\n",
            "pattern recognition literature.  Fisher's paper is a classic in the field and\n",
            "is referenced frequently to this day.  (See Duda & Hart, for example.)  The\n",
            "data set contains 3 classes of 50 instances each, where each class refers to a\n",
            "type of iris plant.  One class is linearly separable from the other 2; the\n",
            "latter are NOT linearly separable from each other.\n",
            "\n",
            ".. topic:: References\n",
            "\n",
            "   - Fisher, R.A. \"The use of multiple measurements in taxonomic problems\"\n",
            "     Annual Eugenics, 7, Part II, 179-188 (1936); also in \"Contributions to\n",
            "     Mathematical Statistics\" (John Wiley, NY, 1950).\n",
            "   - Duda, R.O., & Hart, P.E. (1973) Pattern Classification and Scene Analysis.\n",
            "     (Q327.D83) John Wiley & Sons.  ISBN 0-471-22361-1.  See page 218.\n",
            "   - Dasarathy, B.V. (1980) \"Nosing Around the Neighborhood: A New System\n",
            "     Structure and Classification Rule for Recognition in Partially Exposed\n",
            "     Environments\".  IEEE Transactions on Pattern Analysis and Machine\n",
            "     Intelligence, Vol. PAMI-2, No. 1, 67-71.\n",
            "   - Gates, G.W. (1972) \"The Reduced Nearest Neighbor Rule\".  IEEE Transactions\n",
            "     on Information Theory, May 1972, 431-433.\n",
            "   - See also: 1988 MLC Proceedings, 54-64.  Cheeseman et al\"s AUTOCLASS II\n",
            "     conceptual clustering system finds 3 classes in the data.\n",
            "   - Many, many more ...\n"
          ],
          "name": "stdout"
        }
      ]
    },
    {
      "cell_type": "code",
      "metadata": {
        "id": "hbB9ZfGZkLML"
      },
      "source": [
        "X = data.data\n",
        "Y = data.target"
      ],
      "execution_count": 3,
      "outputs": []
    },
    {
      "cell_type": "markdown",
      "metadata": {
        "id": "M3xV1s6EkLMM"
      },
      "source": [
        "## Train-Test Split"
      ]
    },
    {
      "cell_type": "code",
      "metadata": {
        "id": "PEPhHBymkLMM"
      },
      "source": [
        "from sklearn.model_selection import train_test_split\n",
        "# print(train_test_split.__doc__)\n",
        "Xtrn, Xtst, Ytrn, Ytst = train_test_split(X,Y, train_size = 0.8, random_state = 10)"
      ],
      "execution_count": 4,
      "outputs": []
    },
    {
      "cell_type": "code",
      "metadata": {
        "colab": {
          "base_uri": "https://localhost:8080/"
        },
        "id": "SBnu3FlKkLMM",
        "outputId": "e44b848c-1d4d-4127-a133-e25dac45b91c"
      },
      "source": [
        "print(Xtrn.shape)\n",
        "print(Ytrn.shape)\n",
        "print(Xtst.shape)\n",
        "print(Ytst.shape)"
      ],
      "execution_count": 5,
      "outputs": [
        {
          "output_type": "stream",
          "text": [
            "(120, 4)\n",
            "(120,)\n",
            "(30, 4)\n",
            "(30,)\n"
          ],
          "name": "stdout"
        }
      ]
    },
    {
      "cell_type": "markdown",
      "metadata": {
        "id": "L2KlXZxNkLMM"
      },
      "source": [
        "## Selecting Value of k"
      ]
    },
    {
      "cell_type": "code",
      "metadata": {
        "colab": {
          "base_uri": "https://localhost:8080/"
        },
        "id": "BsRty-ZXkLMN",
        "outputId": "ff32e8a4-cda4-4f94-bf95-cdd71e1e874d"
      },
      "source": [
        "import numpy as np\n",
        "from sklearn.neighbors import KNeighborsClassifier\n",
        "from sklearn import metrics\n",
        "error = [] #to store rmse values for different k\n",
        "for K in range(20):\n",
        "    K = K+1\n",
        "    model = KNeighborsClassifier(n_neighbors = K)\n",
        "\n",
        "    model.fit(Xtrn, Ytrn)  #fit the model\n",
        "    pred=model.predict(Xtst) #make prediction on test set\n",
        "    error.append(np.mean(pred != Ytst))#calculate error and append\n",
        "    print('Error value for k= ' , K , 'is:', np.min(error))"
      ],
      "execution_count": 6,
      "outputs": [
        {
          "output_type": "stream",
          "text": [
            "Error value for k=  1 is: 0.03333333333333333\n",
            "Error value for k=  2 is: 0.03333333333333333\n",
            "Error value for k=  3 is: 0.03333333333333333\n",
            "Error value for k=  4 is: 0.03333333333333333\n",
            "Error value for k=  5 is: 0.03333333333333333\n",
            "Error value for k=  6 is: 0.03333333333333333\n",
            "Error value for k=  7 is: 0.03333333333333333\n",
            "Error value for k=  8 is: 0.0\n",
            "Error value for k=  9 is: 0.0\n",
            "Error value for k=  10 is: 0.0\n",
            "Error value for k=  11 is: 0.0\n",
            "Error value for k=  12 is: 0.0\n",
            "Error value for k=  13 is: 0.0\n",
            "Error value for k=  14 is: 0.0\n",
            "Error value for k=  15 is: 0.0\n",
            "Error value for k=  16 is: 0.0\n",
            "Error value for k=  17 is: 0.0\n",
            "Error value for k=  18 is: 0.0\n",
            "Error value for k=  19 is: 0.0\n",
            "Error value for k=  20 is: 0.0\n"
          ],
          "name": "stdout"
        }
      ]
    },
    {
      "cell_type": "code",
      "metadata": {
        "colab": {
          "base_uri": "https://localhost:8080/",
          "height": 286
        },
        "id": "biIvFJjFkLMN",
        "outputId": "ac8b1336-70b2-44cd-cbe6-9b5586ef3e9b"
      },
      "source": [
        "#plotting the rmse values against k values\n",
        "import pandas as pd\n",
        "curve = pd.DataFrame(error) #elbow curve \n",
        "curve.plot()"
      ],
      "execution_count": 7,
      "outputs": [
        {
          "output_type": "execute_result",
          "data": {
            "text/plain": [
              "<matplotlib.axes._subplots.AxesSubplot at 0x7f191a10ce10>"
            ]
          },
          "metadata": {
            "tags": []
          },
          "execution_count": 7
        },
        {
          "output_type": "display_data",
          "data": {
            "image/png": "[encoded data removed]",
            "text/plain": [
              "<Figure size 432x288 with 1 Axes>"
            ]
          },
          "metadata": {
            "tags": [],
            "needs_background": "light"
          }
        }
      ]
    },
    {
      "cell_type": "markdown",
      "metadata": {
        "id": "amQErfBqkLMO"
      },
      "source": [
        "## Training KNN Classifier"
      ]
    },
    {
      "cell_type": "code",
      "metadata": {
        "id": "6ZmoRBc-kLMO"
      },
      "source": [
        "# from sklearn.neighbors import KNeighborsClassifier"
      ],
      "execution_count": 8,
      "outputs": []
    },
    {
      "cell_type": "code",
      "metadata": {
        "id": "RwBtc1ZwkLMO"
      },
      "source": [
        "model = KNeighborsClassifier(n_neighbors = 8)"
      ],
      "execution_count": 9,
      "outputs": []
    },
    {
      "cell_type": "code",
      "metadata": {
        "colab": {
          "base_uri": "https://localhost:8080/"
        },
        "id": "-HWrubMakLMO",
        "outputId": "6f88a993-da46-47b8-ceaf-6939b2ba76ce"
      },
      "source": [
        "model.fit(Xtrn,Ytrn)"
      ],
      "execution_count": 10,
      "outputs": [
        {
          "output_type": "execute_result",
          "data": {
            "text/plain": [
              "KNeighborsClassifier(algorithm='auto', leaf_size=30, metric='minkowski',\n",
              "                     metric_params=None, n_jobs=None, n_neighbors=8, p=2,\n",
              "                     weights='uniform')"
            ]
          },
          "metadata": {
            "tags": []
          },
          "execution_count": 10
        }
      ]
    },
    {
      "cell_type": "markdown",
      "metadata": {
        "id": "0y6DxKuWkLMP"
      },
      "source": [
        "## Evaluation of model"
      ]
    },
    {
      "cell_type": "code",
      "metadata": {
        "id": "koR2NqmLkLMP"
      },
      "source": [
        "Ypred = model.predict(Xtst)"
      ],
      "execution_count": 11,
      "outputs": []
    },
    {
      "cell_type": "code",
      "metadata": {
        "colab": {
          "base_uri": "https://localhost:8080/"
        },
        "id": "w29zKaankLMQ",
        "outputId": "7b30712b-f5dd-4130-8248-91160d55b662"
      },
      "source": [
        "print(Ytst)\n",
        "print(Ypred)"
      ],
      "execution_count": 12,
      "outputs": [
        {
          "output_type": "stream",
          "text": [
            "[1 2 0 1 0 1 1 1 0 1 1 2 1 0 0 2 1 0 0 0 2 2 2 0 1 0 1 1 1 2]\n",
            "[1 2 0 1 0 1 1 1 0 1 1 2 1 0 0 2 1 0 0 0 2 2 2 0 1 0 1 1 1 2]\n"
          ],
          "name": "stdout"
        }
      ]
    },
    {
      "cell_type": "markdown",
      "metadata": {
        "id": "5mDZeL-zkLMQ"
      },
      "source": [
        "### 1.Accuracy"
      ]
    },
    {
      "cell_type": "code",
      "metadata": {
        "colab": {
          "base_uri": "https://localhost:8080/"
        },
        "id": "iNlWnl4ikLMR",
        "outputId": "cc6dafca-56ed-442f-d7c7-55113e8edce2"
      },
      "source": [
        "from sklearn.metrics import accuracy_score\n",
        "acc = accuracy_score(Ytst,Ypred)\n",
        "acc"
      ],
      "execution_count": 13,
      "outputs": [
        {
          "output_type": "execute_result",
          "data": {
            "text/plain": [
              "1.0"
            ]
          },
          "metadata": {
            "tags": []
          },
          "execution_count": 13
        }
      ]
    },
    {
      "cell_type": "markdown",
      "metadata": {
        "id": "u_XoFSfUkLMR"
      },
      "source": [
        "### 2.Confusion Matrix"
      ]
    },
    {
      "cell_type": "code",
      "metadata": {
        "colab": {
          "base_uri": "https://localhost:8080/"
        },
        "id": "O1sgYh41kLMS",
        "outputId": "47d38c91-b9b6-4f75-c7f0-3009a89e9b54"
      },
      "source": [
        "from sklearn.metrics import confusion_matrix\n",
        "# print(confusion_matrix.__doc__)\n",
        "# columns represent Predicted class, Rows represent Actual Class\n",
        "cm = confusion_matrix(Ytst,Ypred,labels=[0,1,2])\n",
        "cm"
      ],
      "execution_count": 14,
      "outputs": [
        {
          "output_type": "execute_result",
          "data": {
            "text/plain": [
              "array([[10,  0,  0],\n",
              "       [ 0, 13,  0],\n",
              "       [ 0,  0,  7]])"
            ]
          },
          "metadata": {
            "tags": []
          },
          "execution_count": 14
        }
      ]
    },
    {
      "cell_type": "markdown",
      "metadata": {
        "id": "t7o9YFz6kLMS"
      },
      "source": [
        "### 3.Recall Matrix"
      ]
    },
    {
      "cell_type": "code",
      "metadata": {
        "colab": {
          "base_uri": "https://localhost:8080/"
        },
        "id": "q_Jq6xLKkLMS",
        "outputId": "f3edaa89-d31f-49a3-e9b1-74465d39b968"
      },
      "source": [
        "# #Predicted/ #Actual class\n",
        "rm =(((cm.T)/(cm.sum(axis=1))).T) #Recall\n",
        "rm"
      ],
      "execution_count": 15,
      "outputs": [
        {
          "output_type": "execute_result",
          "data": {
            "text/plain": [
              "array([[1., 0., 0.],\n",
              "       [0., 1., 0.],\n",
              "       [0., 0., 1.]])"
            ]
          },
          "metadata": {
            "tags": []
          },
          "execution_count": 15
        }
      ]
    },
    {
      "cell_type": "code",
      "metadata": {
        "colab": {
          "base_uri": "https://localhost:8080/"
        },
        "id": "t5AvFNMekLMT",
        "outputId": "a0e01c3a-07bb-4870-e0cd-16eb6f6960be"
      },
      "source": [
        "from sklearn import metrics\n",
        "rec = metrics.recall_score(Ytst,Ypred,average = 'macro')\n",
        "print(rec)"
      ],
      "execution_count": 16,
      "outputs": [
        {
          "output_type": "stream",
          "text": [
            "1.0\n"
          ],
          "name": "stdout"
        }
      ]
    },
    {
      "cell_type": "markdown",
      "metadata": {
        "id": "42YJUUlbkLMT"
      },
      "source": [
        "### 4.Precision Matrix"
      ]
    },
    {
      "cell_type": "code",
      "metadata": {
        "colab": {
          "base_uri": "https://localhost:8080/"
        },
        "id": "HHY_FvPLkLMT",
        "outputId": "22a0d881-c62c-4ced-aa58-c17fe30b3f97"
      },
      "source": [
        "# #Actual Class/ #Prediction\n",
        "pm =(cm/cm.sum(axis=0)) #Precision \n",
        "pm"
      ],
      "execution_count": 17,
      "outputs": [
        {
          "output_type": "execute_result",
          "data": {
            "text/plain": [
              "array([[1., 0., 0.],\n",
              "       [0., 1., 0.],\n",
              "       [0., 0., 1.]])"
            ]
          },
          "metadata": {
            "tags": []
          },
          "execution_count": 17
        }
      ]
    },
    {
      "cell_type": "code",
      "metadata": {
        "colab": {
          "base_uri": "https://localhost:8080/"
        },
        "id": "kD07sosUkLMU",
        "outputId": "e48b1a09-4ad2-4e9b-d43b-6b288b62e54f"
      },
      "source": [
        "prec = metrics.precision_score(Ytst,Ypred, average = 'macro')\n",
        "print(prec)"
      ],
      "execution_count": 18,
      "outputs": [
        {
          "output_type": "stream",
          "text": [
            "1.0\n"
          ],
          "name": "stdout"
        }
      ]
    },
    {
      "cell_type": "markdown",
      "metadata": {
        "id": "65K5zb6UkLMU"
      },
      "source": [
        "### 5.F1 Score"
      ]
    },
    {
      "cell_type": "code",
      "metadata": {
        "colab": {
          "base_uri": "https://localhost:8080/"
        },
        "id": "p9phKAIbkLMU",
        "outputId": "1c16b353-76e7-4362-fe27-442092c9c838"
      },
      "source": [
        "F1 = 2*pm*rm/(pm+rm)\n",
        "F1"
      ],
      "execution_count": 19,
      "outputs": [
        {
          "output_type": "stream",
          "text": [
            "/usr/local/lib/python3.6/dist-packages/ipykernel_launcher.py:1: RuntimeWarning: invalid value encountered in true_divide\n",
            "  \"\"\"Entry point for launching an IPython kernel.\n"
          ],
          "name": "stderr"
        },
        {
          "output_type": "execute_result",
          "data": {
            "text/plain": [
              "array([[ 1., nan, nan],\n",
              "       [nan,  1., nan],\n",
              "       [nan, nan,  1.]])"
            ]
          },
          "metadata": {
            "tags": []
          },
          "execution_count": 19
        }
      ]
    },
    {
      "cell_type": "code",
      "metadata": {
        "colab": {
          "base_uri": "https://localhost:8080/"
        },
        "id": "77BtbHkrkLMU",
        "outputId": "17d6ee48-32b5-4bb7-c0f5-24c3d58efd5e"
      },
      "source": [
        "f1 = metrics.f1_score(Ytst,Ypred, average = 'micro')\n",
        "print(f1)"
      ],
      "execution_count": 20,
      "outputs": [
        {
          "output_type": "stream",
          "text": [
            "1.0\n"
          ],
          "name": "stdout"
        }
      ]
    },
    {
      "cell_type": "markdown",
      "metadata": {
        "id": "LudvrsPgkLMV"
      },
      "source": [
        "# .\n",
        ".\n",
        ".\n",
        ".\n",
        ".\n",
        "\n",
        "\n"
      ]
    },
    {
      "cell_type": "markdown",
      "metadata": {
        "id": "Dx1cVuTtkLMV"
      },
      "source": [
        "# KNN Regression"
      ]
    },
    {
      "cell_type": "markdown",
      "metadata": {
        "id": "-_HF8YcnkLMV"
      },
      "source": [
        "## Import Datasets"
      ]
    },
    {
      "cell_type": "code",
      "metadata": {
        "id": "ewIx8KybkLMV"
      },
      "source": [
        "from sklearn.datasets import load_boston\n",
        "data = load_boston()"
      ],
      "execution_count": null,
      "outputs": []
    },
    {
      "cell_type": "code",
      "metadata": {
        "id": "i6j9SizIkLMV",
        "outputId": "5ee11f32-08fe-464f-d750-c94e9fd21a3f"
      },
      "source": [
        "print(data.DESCR)"
      ],
      "execution_count": null,
      "outputs": [
        {
          "output_type": "stream",
          "text": [
            ".. _boston_dataset:\n",
            "\n",
            "Boston house prices dataset\n",
            "---------------------------\n",
            "\n",
            "**Data Set Characteristics:**  \n",
            "\n",
            "    :Number of Instances: 506 \n",
            "\n",
            "    :Number of Attributes: 13 numeric/categorical predictive. Median Value (attribute 14) is usually the target.\n",
            "\n",
            "    :Attribute Information (in order):\n",
            "        - CRIM     per capita crime rate by town\n",
            "        - ZN       proportion of residential land zoned for lots over 25,000 sq.ft.\n",
            "        - INDUS    proportion of non-retail business acres per town\n",
            "        - CHAS     Charles River dummy variable (= 1 if tract bounds river; 0 otherwise)\n",
            "        - NOX      nitric oxides concentration (parts per 10 million)\n",
            "        - RM       average number of rooms per dwelling\n",
            "        - AGE      proportion of owner-occupied units built prior to 1940\n",
            "        - DIS      weighted distances to five Boston employment centres\n",
            "        - RAD      index of accessibility to radial highways\n",
            "        - TAX      full-value property-tax rate per $10,000\n",
            "        - PTRATIO  pupil-teacher ratio by town\n",
            "        - B        1000(Bk - 0.63)^2 where Bk is the proportion of blacks by town\n",
            "        - LSTAT    % lower status of the population\n",
            "        - MEDV     Median value of owner-occupied homes in $1000's\n",
            "\n",
            "    :Missing Attribute Values: None\n",
            "\n",
            "    :Creator: Harrison, D. and Rubinfeld, D.L.\n",
            "\n",
            "This is a copy of UCI ML housing dataset.\n",
            "https://archive.ics.uci.edu/ml/machine-learning-databases/housing/\n",
            "\n",
            "\n",
            "This dataset was taken from the StatLib library which is maintained at Carnegie Mellon University.\n",
            "\n",
            "The Boston house-price data of Harrison, D. and Rubinfeld, D.L. 'Hedonic\n",
            "prices and the demand for clean air', J. Environ. Economics & Management,\n",
            "vol.5, 81-102, 1978.   Used in Belsley, Kuh & Welsch, 'Regression diagnostics\n",
            "...', Wiley, 1980.   N.B. Various transformations are used in the table on\n",
            "pages 244-261 of the latter.\n",
            "\n",
            "The Boston house-price data has been used in many machine learning papers that address regression\n",
            "problems.   \n",
            "     \n",
            ".. topic:: References\n",
            "\n",
            "   - Belsley, Kuh & Welsch, 'Regression diagnostics: Identifying Influential Data and Sources of Collinearity', Wiley, 1980. 244-261.\n",
            "   - Quinlan,R. (1993). Combining Instance-Based and Model-Based Learning. In Proceedings on the Tenth International Conference of Machine Learning, 236-243, University of Massachusetts, Amherst. Morgan Kaufmann.\n",
            "\n"
          ],
          "name": "stdout"
        }
      ]
    },
    {
      "cell_type": "code",
      "metadata": {
        "id": "5_xnL58nkLMW"
      },
      "source": [
        "# print(data.DESCR)\n",
        "X = data.data\n",
        "Y = data.target"
      ],
      "execution_count": null,
      "outputs": []
    },
    {
      "cell_type": "markdown",
      "metadata": {
        "id": "OzyNYhZ4kLMW"
      },
      "source": [
        "## Train Test Split"
      ]
    },
    {
      "cell_type": "code",
      "metadata": {
        "id": "T9xepiANkLMW"
      },
      "source": [
        "from sklearn.model_selection import train_test_split\n",
        "# print(train_test_split.__doc__)\n",
        "Xtrn, Xtst, Ytrn, Ytst = train_test_split(X,Y, train_size = 0.9, random_state = 10)"
      ],
      "execution_count": null,
      "outputs": []
    },
    {
      "cell_type": "code",
      "metadata": {
        "id": "xi1vTsyckLMW",
        "outputId": "057e5a8b-8a71-429a-9d00-d9cddf389920"
      },
      "source": [
        "print(Xtrn.shape)\n",
        "print(Ytrn.shape)\n",
        "print(Xtst.shape)\n",
        "print(Ytst.shape)"
      ],
      "execution_count": null,
      "outputs": [
        {
          "output_type": "stream",
          "text": [
            "(455, 13)\n",
            "(455,)\n",
            "(51, 13)\n",
            "(51,)\n"
          ],
          "name": "stdout"
        }
      ]
    },
    {
      "cell_type": "markdown",
      "metadata": {
        "id": "scewrVipkLMX"
      },
      "source": [
        "## Select the value of k"
      ]
    },
    {
      "cell_type": "code",
      "metadata": {
        "id": "TJTthTKdkLMX",
        "outputId": "9924407b-dd21-4bb4-a350-2a7220d7bd79"
      },
      "source": [
        "import numpy as np\n",
        "from sklearn.neighbors import KNeighborsRegressor\n",
        "from sklearn import metrics\n",
        "rmse_val = [] #to store rmse values for different k\n",
        "for K in range(40):\n",
        "    K = K+1\n",
        "    model = KNeighborsRegressor(n_neighbors = K)\n",
        "\n",
        "    model.fit(Xtrn, Ytrn)  #fit the model\n",
        "    pred=model.predict(Xtst) #make prediction on test set\n",
        "    error = np.sqrt(metrics.mean_squared_error(Ytst,pred)) #calculate rmse\n",
        "    rmse_val.append(error) #store rmse values\n",
        "    print('RMSE value for k= ' , K , 'is:', error)"
      ],
      "execution_count": null,
      "outputs": [
        {
          "output_type": "stream",
          "text": [
            "RMSE value for k=  1 is: 7.831096885582028\n",
            "RMSE value for k=  2 is: 8.212523315990419\n",
            "RMSE value for k=  3 is: 6.889823887634167\n",
            "RMSE value for k=  4 is: 6.748836137860088\n",
            "RMSE value for k=  5 is: 6.555881658001881\n",
            "RMSE value for k=  6 is: 6.678795747450702\n",
            "RMSE value for k=  7 is: 6.7819916074900615\n",
            "RMSE value for k=  8 is: 6.969207483005255\n",
            "RMSE value for k=  9 is: 7.12419513900348\n",
            "RMSE value for k=  10 is: 7.141672649687474\n",
            "RMSE value for k=  11 is: 7.146324440297669\n",
            "RMSE value for k=  12 is: 7.233379830277348\n",
            "RMSE value for k=  13 is: 7.446423791898266\n",
            "RMSE value for k=  14 is: 7.5706126350691125\n",
            "RMSE value for k=  15 is: 7.789130575348297\n",
            "RMSE value for k=  16 is: 7.948984714812548\n",
            "RMSE value for k=  17 is: 8.063445201496597\n",
            "RMSE value for k=  18 is: 8.12025907714951\n",
            "RMSE value for k=  19 is: 8.117561200749705\n",
            "RMSE value for k=  20 is: 8.236210222154932\n",
            "RMSE value for k=  21 is: 8.257759624461341\n",
            "RMSE value for k=  22 is: 8.354768340708198\n",
            "RMSE value for k=  23 is: 8.332724267004311\n",
            "RMSE value for k=  24 is: 8.427587576914151\n",
            "RMSE value for k=  25 is: 8.525956198458868\n",
            "RMSE value for k=  26 is: 8.601586262318172\n",
            "RMSE value for k=  27 is: 8.59699254099279\n",
            "RMSE value for k=  28 is: 8.65950781397142\n",
            "RMSE value for k=  29 is: 8.631442772864633\n",
            "RMSE value for k=  30 is: 8.651913788315028\n",
            "RMSE value for k=  31 is: 8.722370655508398\n",
            "RMSE value for k=  32 is: 8.73786240184371\n",
            "RMSE value for k=  33 is: 8.780652498406523\n",
            "RMSE value for k=  34 is: 8.83906353650974\n",
            "RMSE value for k=  35 is: 8.863159824849845\n",
            "RMSE value for k=  36 is: 8.921682461147414\n",
            "RMSE value for k=  37 is: 8.948699153823389\n",
            "RMSE value for k=  38 is: 8.954202915426519\n",
            "RMSE value for k=  39 is: 8.978723444933408\n",
            "RMSE value for k=  40 is: 8.98753921560072\n"
          ],
          "name": "stdout"
        }
      ]
    },
    {
      "cell_type": "code",
      "metadata": {
        "id": "f069iJDrkLMX",
        "outputId": "019495ea-ed41-4857-f32c-1c5bcf03e99c"
      },
      "source": [
        "#plotting the rmse values against k values\n",
        "# import pandas as pd\n",
        "curve = pd.DataFrame(rmse_val) #elbow curve \n",
        "curve.plot()"
      ],
      "execution_count": null,
      "outputs": [
        {
          "output_type": "execute_result",
          "data": {
            "text/plain": [
              "<AxesSubplot:>"
            ]
          },
          "metadata": {
            "tags": []
          },
          "execution_count": 27
        },
        {
          "output_type": "display_data",
          "data": {
            "image/png": "[encoded data removed]",
            "text/plain": [
              "<Figure size 432x288 with 1 Axes>"
            ]
          },
          "metadata": {
            "tags": [],
            "needs_background": "light"
          }
        }
      ]
    },
    {
      "cell_type": "markdown",
      "metadata": {
        "id": "W9UKBwiukLMX"
      },
      "source": [
        "## Training KNN Regressor"
      ]
    },
    {
      "cell_type": "code",
      "metadata": {
        "id": "nr62wAVdkLMY"
      },
      "source": [
        "# from sklearn.neighbors import KNeighborsRegressor"
      ],
      "execution_count": null,
      "outputs": []
    },
    {
      "cell_type": "code",
      "metadata": {
        "id": "YVd2i70tkLMY",
        "outputId": "fe5cf5f9-ad71-464d-b66a-7f390f6884bb"
      },
      "source": [
        "model = KNeighborsRegressor(n_neighbors = 5 )\n",
        "model.fit(Xtrn,Ytrn)"
      ],
      "execution_count": null,
      "outputs": [
        {
          "output_type": "execute_result",
          "data": {
            "text/plain": [
              "KNeighborsRegressor()"
            ]
          },
          "metadata": {
            "tags": []
          },
          "execution_count": 29
        }
      ]
    },
    {
      "cell_type": "markdown",
      "metadata": {
        "id": "1DOdjnlqkLMY"
      },
      "source": [
        "## Evaluation of model"
      ]
    },
    {
      "cell_type": "code",
      "metadata": {
        "id": "SgqKeW7zkLMY"
      },
      "source": [
        "Ypred = model.predict(Xtst)"
      ],
      "execution_count": null,
      "outputs": []
    },
    {
      "cell_type": "code",
      "metadata": {
        "id": "WvWmZvPOkLMY",
        "outputId": "14aedec9-8443-473e-949a-48434714d881"
      },
      "source": [
        "print(Ytst)\n",
        "print(Ypred)"
      ],
      "execution_count": null,
      "outputs": [
        {
          "output_type": "stream",
          "text": [
            "[28.4 31.1 23.5 26.6 19.6 14.3 50.  14.3 20.7 37.6 20.4 27.5 36.2 32.\n",
            " 33.1 48.8 24.6 26.4 23.2 17.  41.3 14.9 18.5 25.  36.4 19.5 27.1 14.9\n",
            " 46.  17.9 30.3 31.6 23.1 24.7 16.7 18.3  8.4 37.3 22.1 22.  46.7 30.1\n",
            " 12.1 29.1 16.6 23.9 19.9 21.4 45.4 15.6 22.7]\n",
            "[31.46 33.62 26.76 25.74 21.6  13.34 38.96 17.44 28.38 33.64 21.16 28.66\n",
            " 35.72 27.46 28.94 39.32 24.56 32.24 23.32 21.5  27.64 17.82 20.14 21.66\n",
            " 32.84 25.98 17.94 14.46 29.82 10.66 23.56 38.6  27.46 23.28 14.76 20.34\n",
            " 12.12 34.42 22.3  25.14 24.78 20.94 16.54 33.   21.72 29.4  24.66 16.72\n",
            " 30.84 17.42 28.72]\n"
          ],
          "name": "stdout"
        }
      ]
    },
    {
      "cell_type": "markdown",
      "metadata": {
        "id": "R77JCshQkLMZ"
      },
      "source": [
        "## Mean Absolute Error"
      ]
    },
    {
      "cell_type": "code",
      "metadata": {
        "id": "lk9WsQRZkLMZ"
      },
      "source": [
        "from sklearn.metrics import mean_absolute_error"
      ],
      "execution_count": null,
      "outputs": []
    },
    {
      "cell_type": "code",
      "metadata": {
        "id": "nqz0ewHVkLMZ",
        "outputId": "83ab1fa2-1ef0-4cd8-e1b8-bd11b2c34ef9"
      },
      "source": [
        "mean_absolute_error(Ypred,Ytst)"
      ],
      "execution_count": null,
      "outputs": [
        {
          "output_type": "execute_result",
          "data": {
            "text/plain": [
              "4.8921568627450975"
            ]
          },
          "metadata": {
            "tags": []
          },
          "execution_count": 33
        }
      ]
    },
    {
      "cell_type": "markdown",
      "metadata": {
        "id": "d6Y2ENgckLMZ"
      },
      "source": [
        "## Mean Squared Error"
      ]
    },
    {
      "cell_type": "code",
      "metadata": {
        "id": "mbqGwu4TkLMZ"
      },
      "source": [
        "# from sklearn.metrics import mean_squared_error"
      ],
      "execution_count": null,
      "outputs": []
    },
    {
      "cell_type": "code",
      "metadata": {
        "id": "DlqDJucjkLMa",
        "outputId": "7ee136b9-aaed-4367-840f-0938679bb1b2"
      },
      "source": [
        "metrics.mean_squared_error(Ypred,Ytst)"
      ],
      "execution_count": null,
      "outputs": [
        {
          "output_type": "execute_result",
          "data": {
            "text/plain": [
              "42.97958431372549"
            ]
          },
          "metadata": {
            "tags": []
          },
          "execution_count": 35
        }
      ]
    },
    {
      "cell_type": "markdown",
      "metadata": {
        "id": "yVcvJbSdkLMa"
      },
      "source": [
        "## Root Mean Squared Error"
      ]
    },
    {
      "cell_type": "code",
      "metadata": {
        "id": "JNG32wETkLMa",
        "outputId": "17bb98ec-3f6a-42ca-f626-f9c0e672ea2a"
      },
      "source": [
        "metrics.mean_squared_error(Ypred,Ytst)**.5"
      ],
      "execution_count": null,
      "outputs": [
        {
          "output_type": "execute_result",
          "data": {
            "text/plain": [
              "6.555881658001881"
            ]
          },
          "metadata": {
            "tags": []
          },
          "execution_count": 36
        }
      ]
    },
    {
      "cell_type": "markdown",
      "metadata": {
        "id": "0B2rBzvmkLMa"
      },
      "source": [
        "## Score"
      ]
    },
    {
      "cell_type": "code",
      "metadata": {
        "id": "6ONkG5HykLMc",
        "outputId": "f1af781a-0a2d-4ef3-9558-ee5e4c5b35d5"
      },
      "source": [
        "scr = model.score(Xtst,Ytst)\n",
        "print(scr)"
      ],
      "execution_count": null,
      "outputs": [
        {
          "output_type": "stream",
          "text": [
            "0.5658766767101384\n"
          ],
          "name": "stdout"
        }
      ]
    },
    {
      "cell_type": "markdown",
      "metadata": {
        "id": "kRuDzKYpkLMd"
      },
      "source": [
        "## R2 Score"
      ]
    },
    {
      "cell_type": "code",
      "metadata": {
        "id": "rgjXMRNlkLMd",
        "outputId": "01668cef-0fea-4c9d-c890-ba09ebd2781b"
      },
      "source": [
        "r2 = metrics.r2_score(Ytst, Ypred)\n",
        "print(r2)"
      ],
      "execution_count": null,
      "outputs": [
        {
          "output_type": "stream",
          "text": [
            "0.5658766767101384\n"
          ],
          "name": "stdout"
        }
      ]
    },
    {
      "cell_type": "code",
      "metadata": {
        "id": "E32d52c3kLMd"
      },
      "source": [
        ""
      ],
      "execution_count": null,
      "outputs": []
    },
    {
      "cell_type": "code",
      "metadata": {
        "id": "HzYxM2c4kLMd"
      },
      "source": [
        ""
      ],
      "execution_count": null,
      "outputs": []
    }
  ]
}