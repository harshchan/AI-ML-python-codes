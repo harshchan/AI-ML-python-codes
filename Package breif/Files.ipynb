{
 "cells": [
  {
   "cell_type": "code",
   "execution_count": null,
   "metadata": {},
   "outputs": [],
   "source": [
    "import os"
   ]
  },
  {
   "cell_type": "code",
   "execution_count": null,
   "metadata": {},
   "outputs": [],
   "source": [
    "os.getcwd()\n",
    "#print the current working directory"
   ]
  },
  {
   "cell_type": "code",
   "execution_count": null,
   "metadata": {},
   "outputs": [],
   "source": [
    "help(os.listdir)"
   ]
  },
  {
   "cell_type": "code",
   "execution_count": null,
   "metadata": {},
   "outputs": [],
   "source": [
    "os.listdir('.')\n",
    "#relative path"
   ]
  },
  {
   "cell_type": "code",
   "execution_count": null,
   "metadata": {},
   "outputs": [],
   "source": [
    "os.listdir('C:\\\\Users')\n",
    "#absolute path"
   ]
  },
  {
   "cell_type": "code",
   "execution_count": null,
   "metadata": {},
   "outputs": [],
   "source": [
    "os.makedirs('./data',exist_ok=True)\n",
    "#make a directory by passing relative path"
   ]
  },
  {
   "cell_type": "code",
   "execution_count": null,
   "metadata": {},
   "outputs": [],
   "source": [
    "import urllib.request as urlibreq\n",
    "#download from net by passing http link"
   ]
  },
  {
   "cell_type": "code",
   "execution_count": null,
   "metadata": {},
   "outputs": [],
   "source": [
    "url1='https://www.w3.org/TR/PNG/iso_8859-1.txt'"
   ]
  },
  {
   "cell_type": "code",
   "execution_count": null,
   "metadata": {},
   "outputs": [],
   "source": [
    "urlibreq.urlretrieve(url1,'./data/sampletextfile.txt')"
   ]
  },
  {
   "cell_type": "code",
   "execution_count": null,
   "metadata": {},
   "outputs": [],
   "source": [
    "os.listdir('./data')"
   ]
  },
  {
   "cell_type": "markdown",
   "metadata": {},
   "source": [
    "# Read the file"
   ]
  },
  {
   "cell_type": "code",
   "execution_count": null,
   "metadata": {},
   "outputs": [],
   "source": [
    "file=open('./data/sampletextfile.txt',mode='r')\n",
    "#mode can be r,w,x,a\n",
    "#open the file and specify the relative path / absolute path"
   ]
  },
  {
   "cell_type": "code",
   "execution_count": null,
   "metadata": {},
   "outputs": [],
   "source": [
    "#w+ for reading and writing both\n",
    "file_contents=file.read()"
   ]
  },
  {
   "cell_type": "code",
   "execution_count": null,
   "metadata": {},
   "outputs": [],
   "source": [
    "file_contents"
   ]
  },
  {
   "cell_type": "code",
   "execution_count": null,
   "metadata": {},
   "outputs": [],
   "source": [
    "print(file_contents)"
   ]
  },
  {
   "cell_type": "code",
   "execution_count": null,
   "metadata": {},
   "outputs": [],
   "source": [
    "#csv =comma seperated values\n",
    "file.close()\n",
    "#once close it cant be read\n"
   ]
  },
  {
   "cell_type": "code",
   "execution_count": null,
   "metadata": {},
   "outputs": [],
   "source": [
    "file.read()"
   ]
  },
  {
   "cell_type": "markdown",
   "metadata": {},
   "source": [
    "# CSV files"
   ]
  },
  {
   "cell_type": "code",
   "execution_count": null,
   "metadata": {},
   "outputs": [],
   "source": [
    "with open('./data/sampletextfile.txt') as file2:\n",
    "    file2_contents=file2.read()\n",
    "    print(file2_contents)\n",
    "    \n",
    "#the with loop here automatically closes the file after its job is done \n",
    "# we dont need to write close statement here\n",
    "#by default read mode otherwise we can specify the mode if we want\n"
   ]
  },
  {
   "cell_type": "code",
   "execution_count": null,
   "metadata": {},
   "outputs": [],
   "source": [
    "file2.read()\n",
    "#error because the file is automatically closed"
   ]
  },
  {
   "cell_type": "code",
   "execution_count": null,
   "metadata": {},
   "outputs": [],
   "source": [
    "with open('./data/sampletextfile.txt') as file3:\n",
    "    file3_contents_byline=file3.readlines()\n",
    "    print(file3_contents_byline)\n",
    "    \n",
    "#read contents by line and stores it in list of strings"
   ]
  },
  {
   "cell_type": "code",
   "execution_count": null,
   "metadata": {},
   "outputs": [],
   "source": [
    " file3_contents_byline[1] "
   ]
  },
  {
   "cell_type": "code",
   "execution_count": null,
   "metadata": {},
   "outputs": [],
   "source": [
    "#if we want to rempve the last \\n characher\n",
    "#we use .strip()\n",
    "file3_contents_byline[1].strip()"
   ]
  },
  {
   "cell_type": "markdown",
   "metadata": {},
   "source": [
    "# #Processing data from files "
   ]
  },
  {
   "cell_type": "code",
   "execution_count": null,
   "metadata": {},
   "outputs": [],
   "source": [
    "os.listdir()"
   ]
  },
  {
   "cell_type": "code",
   "execution_count": null,
   "metadata": {},
   "outputs": [],
   "source": [
    "os.getcwd()"
   ]
  },
  {
   "cell_type": "code",
   "execution_count": null,
   "metadata": {},
   "outputs": [],
   "source": [
    "with open('C:\\\\Users\\\\harsh\\\\Downloads\\\\Python AI ML Resources\\\\python-os-and-filesystem-v-9\\\\loan.txt') as file:\n",
    "    file_contents=file.read()\n",
    "    file_line_content=file.readlines()\n",
    "    print(file_contents)\n",
    "    \n",
    " #file contents   \n",
    "    "
   ]
  },
  {
   "cell_type": "code",
   "execution_count": null,
   "metadata": {},
   "outputs": [],
   "source": [
    "with open('C:\\\\Users\\\\harsh\\\\Downloads\\\\Python AI ML Resources\\\\python-os-and-filesystem-v-9\\\\loan.txt') as file:\n",
    "    file_line_content=file.readlines()\n",
    "    print(file_line_content)\n",
    "    \n",
    "#file contents by line "
   ]
  },
  {
   "cell_type": "code",
   "execution_count": null,
   "metadata": {},
   "outputs": [],
   "source": []
  },
  {
   "cell_type": "markdown",
   "metadata": {},
   "source": [
    "idea is to make a list of dictionary of  all the values.\n",
    "in the dictionary key will be column name and vale will be column value\n"
   ]
  },
  {
   "cell_type": "code",
   "execution_count": null,
   "metadata": {},
   "outputs": [],
   "source": [
    "def parse_headers(header_line):\n",
    "    return header_line.strip().split(',')\n",
    "#a helper funtion to retrieve all the column names from the first line\n"
   ]
  },
  {
   "cell_type": "code",
   "execution_count": null,
   "metadata": {},
   "outputs": [],
   "source": [
    "headers=parse_headers(file_line_content[0])"
   ]
  },
  {
   "cell_type": "code",
   "execution_count": null,
   "metadata": {},
   "outputs": [],
   "source": [
    "print(headers)"
   ]
  },
  {
   "cell_type": "raw",
   "metadata": {},
   "source": [
    "# define a function parse values such that it takes line contaiing data and store it in \n",
    "list of floating point number"
   ]
  },
  {
   "cell_type": "code",
   "execution_count": null,
   "metadata": {},
   "outputs": [],
   "source": [
    "def parse_values(data_line):\n",
    "    #for item in data_line.strip().split(','):\n",
    "        #values.append(float(item))\n",
    "    #return values\n",
    "    return data_line.strip().split(',')\n",
    "\n",
    "#if we want to make all our numbers in float we can uncomment and make it"
   ]
  },
  {
   "cell_type": "code",
   "execution_count": null,
   "metadata": {},
   "outputs": [],
   "source": [
    "parse_values(file_line_content[1])\n",
    "# this is a string not integers"
   ]
  },
  {
   "cell_type": "code",
   "execution_count": null,
   "metadata": {},
   "outputs": [],
   "source": [
    "to handle empty strings \n",
    "we need to modify our parse_values funtion\n",
    "otherwise it will give an error "
   ]
  },
  {
   "cell_type": "code",
   "execution_count": null,
   "metadata": {},
   "outputs": [],
   "source": [
    "def corrected_parse_values(data_line):\n",
    "    values=[]\n",
    "    for i in data_line.strip().split(','):\n",
    "        if i=='':\n",
    "            values.append(0.0)\n",
    "        else:\n",
    "            values.append(float(i))\n",
    "    return values"
   ]
  },
  {
   "cell_type": "code",
   "execution_count": null,
   "metadata": {},
   "outputs": [],
   "source": [
    "print(file_contents)\n",
    "#for ex here in line 3\n",
    "#we have a misssing value for downpayment which will be replaced by 0.0 using corrected_parse_values"
   ]
  },
  {
   "cell_type": "code",
   "execution_count": null,
   "metadata": {},
   "outputs": [],
   "source": [
    "parse_values(file_line_content[2])\n",
    "#here its a string and empty string"
   ]
  },
  {
   "cell_type": "code",
   "execution_count": null,
   "metadata": {},
   "outputs": [],
   "source": [
    "corrected_parse_values(file_line_content[2])\n",
    "# this is integer values and empty string is replav=ced by 0.0"
   ]
  },
  {
   "cell_type": "markdown",
   "metadata": {},
   "source": [
    "now we will create a dictionary using our headers and corrected parsed values\n"
   ]
  },
  {
   "cell_type": "code",
   "execution_count": null,
   "metadata": {},
   "outputs": [],
   "source": [
    "def create_item_dict(headers,values):\n",
    "    result={}\n",
    "    for value,header in zip(values,headers):\n",
    "        result[header]=value\n",
    "    return result"
   ]
  },
  {
   "cell_type": "code",
   "execution_count": null,
   "metadata": {},
   "outputs": [],
   "source": [
    "create_item_dict(headers,file_line_content[2])\n"
   ]
  },
  {
   "cell_type": "markdown",
   "metadata": {},
   "source": [
    "compile all the things in one function to accept raw data and give us proper structured list of dictionary "
   ]
  },
  {
   "cell_type": "code",
   "execution_count": null,
   "metadata": {},
   "outputs": [],
   "source": [
    "def read_csv(path):\n",
    "    result=[]\n",
    "    with open(path) as file:\n",
    "        file_line=file.readlines()\n",
    "        headers=parse_headers(file_line[0])\n",
    "        for data in file_line[1:]:\n",
    "            values=corrected_parse_values(data)\n",
    "            item_dict=create_item_dict(headers,values)\n",
    "            \n",
    "            result.append(item_dict)\n",
    "    return result\n",
    "        "
   ]
  },
  {
   "cell_type": "code",
   "execution_count": null,
   "metadata": {},
   "outputs": [],
   "source": [
    "read_csv('C:\\\\Users\\\\harsh\\\\Downloads\\\\Python AI ML Resources\\\\python-os-and-filesystem-v-9\\\\loan.txt')"
   ]
  },
  {
   "cell_type": "markdown",
   "metadata": {},
   "source": [
    "# main function for reading"
   ]
  },
  {
   "cell_type": "code",
   "execution_count": 14,
   "metadata": {},
   "outputs": [],
   "source": [
    "def find_headers(line):\n",
    "    headers=[]\n",
    "    headers=line.strip().split(',')\n",
    "    #print(headers)\n",
    "    return headers\n",
    "\n",
    "\n",
    "\n",
    "def corrected_values(line):\n",
    "    values=[]\n",
    "    for i in line.strip().split(','):\n",
    "        if i=='':\n",
    "            values.append(0.0)\n",
    "        else:\n",
    "            values.append(float(i))\n",
    "    #print (values)\n",
    "    return values\n",
    "        \n",
    "\n",
    "def make_dict(headers,values):\n",
    "    dic={}\n",
    "    \n",
    "    for header,value in zip(headers,values):\n",
    "        dic[header]=value\n",
    "   # print(dict)   \n",
    "    return dic\n",
    "\n",
    "def read_csv(path):\n",
    "    data=[]\n",
    "    with open(path) as file:\n",
    "        file_line_content=file.readlines()\n",
    "        headers=find_headers(file_line_content[0])\n",
    "        \n",
    "        for line in file_line_content[1:]:\n",
    "            values=corrected_values(line)\n",
    "            item=make_dict(headers,values)\n",
    "            \n",
    "            data.append(item)\n",
    "            \n",
    "    return data\n",
    "            \n",
    "        \n",
    "    \n",
    "    "
   ]
  },
  {
   "cell_type": "code",
   "execution_count": null,
   "metadata": {},
   "outputs": [],
   "source": [
    "read_csv('C:\\\\Users\\\\harsh\\\\Downloads\\\\samplecsv.csv')"
   ]
  },
  {
   "cell_type": "code",
   "execution_count": 2,
   "metadata": {},
   "outputs": [],
   "source": [
    "import math"
   ]
  },
  {
   "cell_type": "markdown",
   "metadata": {},
   "source": [
    "now we will do processing on the data which we collected"
   ]
  },
  {
   "cell_type": "code",
   "execution_count": 3,
   "metadata": {},
   "outputs": [
    {
     "data": {
      "text/plain": [
       "[{'amount,duration,rate,down_payment': '828400,120,0.11,100000'},\n",
       " {'amount,duration,rate,down_payment': '4633400,240,0.06,'},\n",
       " {'amount,duration,rate,down_payment': '42900,90,0.08,8900'},\n",
       " {'amount,duration,rate,down_payment': '983000,16,0.14,'},\n",
       " {'amount,duration,rate,down_payment': '15230,48,0.07,4300'}]"
      ]
     },
     "execution_count": 3,
     "metadata": {},
     "output_type": "execute_result"
    }
   ],
   "source": [
    "read_csv('C:\\\\Users\\\\harsh\\\\Downloads\\\\Python AI ML Resources\\\\python-os-and-filesystem-v-9\\\\loan.txt')"
   ]
  },
  {
   "cell_type": "code",
   "execution_count": 15,
   "metadata": {},
   "outputs": [],
   "source": [
    "def loan_emi(amount, duration, rate, down_payment=0):\n",
    "    \"\"\"Calculates the equal montly installment (EMI) for a loan.\n",
    "    \n",
    "    Arguments:\n",
    "        amount - Total amount to be spent (loan + down payment)\n",
    "        duration - Duration of the loan (in months)\n",
    "        rate - Rate of interest (monthly)\n",
    "        down_payment (optional) - Optional intial payment (deducted from amount)\n",
    "    \"\"\"\n",
    "    loan_amount = amount - down_payment\n",
    "    try:\n",
    "        emi = loan_amount * rate * ((1+rate)**duration) / (((1+rate)**duration)-1)\n",
    "    except ZeroDivisionError:\n",
    "        emi = loan_amount / duration\n",
    "    emi = math.ceil(emi)\n",
    "    return emi"
   ]
  },
  {
   "cell_type": "code",
   "execution_count": 16,
   "metadata": {},
   "outputs": [
    {
     "data": {
      "text/plain": [
       "[{'amount': 828400.0,\n",
       "  'duration': 120.0,\n",
       "  'rate': 0.11,\n",
       "  'down_payment': 100000.0},\n",
       " {'amount': 4633400.0, 'duration': 240.0, 'rate': 0.06, 'down_payment': 0.0},\n",
       " {'amount': 42900.0, 'duration': 90.0, 'rate': 0.08, 'down_payment': 8900.0},\n",
       " {'amount': 983000.0, 'duration': 16.0, 'rate': 0.14, 'down_payment': 0.0},\n",
       " {'amount': 15230.0, 'duration': 48.0, 'rate': 0.07, 'down_payment': 4300.0}]"
      ]
     },
     "execution_count": 16,
     "metadata": {},
     "output_type": "execute_result"
    }
   ],
   "source": [
    "loan_file=read_csv('C:\\\\Users\\\\harsh\\\\Downloads\\\\Python AI ML Resources\\\\python-os-and-filesystem-v-9\\\\loan.txt')\n",
    "loan_file"
   ]
  },
  {
   "cell_type": "code",
   "execution_count": 20,
   "metadata": {},
   "outputs": [],
   "source": [
    "def compute_emi(filename):\n",
    "    for loan in loan_file:\n",
    "        loan['emi'] = loan_emi(loan['amount'], \n",
    "                                loan['duration'], \n",
    "                               loan['rate'], # the CSV contains yearly rates\n",
    "                               loan['down_payment'])"
   ]
  },
  {
   "cell_type": "code",
   "execution_count": 18,
   "metadata": {},
   "outputs": [
    {
     "data": {
      "text/plain": [
       "[{'amount': 828400.0,\n",
       "  'duration': 120.0,\n",
       "  'rate': 0.11,\n",
       "  'down_payment': 100000.0,\n",
       "  'emi': 80125},\n",
       " {'amount': 4633400.0,\n",
       "  'duration': 240.0,\n",
       "  'rate': 0.06,\n",
       "  'down_payment': 0.0,\n",
       "  'emi': 278005},\n",
       " {'amount': 42900.0,\n",
       "  'duration': 90.0,\n",
       "  'rate': 0.08,\n",
       "  'down_payment': 8900.0,\n",
       "  'emi': 2723},\n",
       " {'amount': 983000.0,\n",
       "  'duration': 16.0,\n",
       "  'rate': 0.14,\n",
       "  'down_payment': 0.0,\n",
       "  'emi': 156902},\n",
       " {'amount': 15230.0,\n",
       "  'duration': 48.0,\n",
       "  'rate': 0.07,\n",
       "  'down_payment': 4300.0,\n",
       "  'emi': 797}]"
      ]
     },
     "execution_count": 18,
     "metadata": {},
     "output_type": "execute_result"
    }
   ],
   "source": [
    "loan_file"
   ]
  },
  {
   "cell_type": "markdown",
   "metadata": {},
   "source": [
    "now we added a emi column in this data so we need to change the original .txt or .csv file so"
   ]
  },
  {
   "cell_type": "code",
   "execution_count": 21,
   "metadata": {},
   "outputs": [],
   "source": [
    "loan_file=read_csv('C:\\\\Users\\\\harsh\\\\Downloads\\\\Python AI ML Resources\\\\python-os-and-filesystem-v-9\\\\loan.txt')\n",
    "compute_emi(loan_file)"
   ]
  },
  {
   "cell_type": "code",
   "execution_count": 22,
   "metadata": {},
   "outputs": [
    {
     "data": {
      "text/plain": [
       "[{'amount': 828400.0,\n",
       "  'duration': 120.0,\n",
       "  'rate': 0.11,\n",
       "  'down_payment': 100000.0,\n",
       "  'emi': 80125},\n",
       " {'amount': 4633400.0,\n",
       "  'duration': 240.0,\n",
       "  'rate': 0.06,\n",
       "  'down_payment': 0.0,\n",
       "  'emi': 278005},\n",
       " {'amount': 42900.0,\n",
       "  'duration': 90.0,\n",
       "  'rate': 0.08,\n",
       "  'down_payment': 8900.0,\n",
       "  'emi': 2723},\n",
       " {'amount': 983000.0,\n",
       "  'duration': 16.0,\n",
       "  'rate': 0.14,\n",
       "  'down_payment': 0.0,\n",
       "  'emi': 156902},\n",
       " {'amount': 15230.0,\n",
       "  'duration': 48.0,\n",
       "  'rate': 0.07,\n",
       "  'down_payment': 4300.0,\n",
       "  'emi': 797}]"
      ]
     },
     "execution_count": 22,
     "metadata": {},
     "output_type": "execute_result"
    }
   ],
   "source": [
    "loan_file"
   ]
  },
  {
   "cell_type": "code",
   "execution_count": 24,
   "metadata": {},
   "outputs": [],
   "source": [
    "with open('C:\\\\Users\\\\harsh\\\\Downloads\\\\Python AI ML Resources\\\\python-os-and-filesystem-v-9\\\\loan.txt','w+') as f:\n",
    "    for loan in loan_file:\n",
    "        f.write('{},{},{},{},{}\\n'.format(\n",
    "                loan['amount'],loan['duration'],loan['rate']\n",
    "                ,loan['down_payment'],loan['emi']))"
   ]
  },
  {
   "cell_type": "code",
   "execution_count": null,
   "metadata": {},
   "outputs": [],
   "source": []
  }
 ],
 "metadata": {
  "kernelspec": {
   "display_name": "Python 3",
   "language": "python",
   "name": "python3"
  },
  "language_info": {
   "codemirror_mode": {
    "name": "ipython",
    "version": 3
   },
   "file_extension": ".py",
   "mimetype": "text/x-python",
   "name": "python",
   "nbconvert_exporter": "python",
   "pygments_lexer": "ipython3",
   "version": "3.9.5"
  }
 },
 "nbformat": 4,
 "nbformat_minor": 4
}
