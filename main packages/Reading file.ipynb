{
 "cells": [
  {
   "cell_type": "code",
   "execution_count": null,
   "metadata": {},
   "outputs": [],
   "source": [
    "\n",
    "    \n",
    "    \n",
    "    "
   ]
  },
  {
   "cell_type": "code",
   "execution_count": null,
   "metadata": {},
   "outputs": [],
   "source": [
    "def find_headers(line):\n",
    "    headers=[]\n",
    "    headers=line.strip().split(',')\n",
    "    #print(headers)\n",
    "    return headers\n",
    "\n",
    "\n",
    "\n",
    "def corrected_values(line):\n",
    "    values=[]\n",
    "    for i in line.strip().split(','):\n",
    "        if i=='':\n",
    "            values.append(0.0)\n",
    "        else:\n",
    "            values.append(float(i))\n",
    "    #print (values)\n",
    "    return values\n",
    "        \n",
    "\n",
    "def make_dict(headers,values):\n",
    "    dic={}\n",
    "    \n",
    "    for header,value in zip(headers,values):\n",
    "        dic[header]=value\n",
    "   # print(dict)   \n",
    "    return dic\n",
    "\n",
    "def read_csv(path):\n",
    "    data=[]\n",
    "    with open(path) as file:\n",
    "        file_line_content=file.readlines()\n",
    "        headers=find_headers(file_line_content[0])\n",
    "        \n",
    "        for line in file_line_content[1:]:\n",
    "            values=corrected_values(line)\n",
    "            item=make_dict(headers,values)\n",
    "            \n",
    "            data.append(item)\n",
    "            \n",
    "    return data\n",
    "            \n",
    "        \n",
    "    \n",
    "    "
   ]
  },
  {
   "cell_type": "code",
   "execution_count": null,
   "metadata": {},
   "outputs": [],
   "source": []
  },
  {
   "cell_type": "code",
   "execution_count": null,
   "metadata": {},
   "outputs": [],
   "source": []
  },
  {
   "cell_type": "code",
   "execution_count": null,
   "metadata": {},
   "outputs": [],
   "source": []
  },
  {
   "cell_type": "code",
   "execution_count": null,
   "metadata": {},
   "outputs": [],
   "source": []
  },
  {
   "cell_type": "code",
   "execution_count": null,
   "metadata": {},
   "outputs": [],
   "source": []
  }
 ],
 "metadata": {
  "kernelspec": {
   "display_name": "Python 3",
   "language": "python",
   "name": "python3"
  },
  "language_info": {
   "codemirror_mode": {
    "name": "ipython",
    "version": 3
   },
   "file_extension": ".py",
   "mimetype": "text/x-python",
   "name": "python",
   "nbconvert_exporter": "python",
   "pygments_lexer": "ipython3",
   "version": "3.9.5"
  }
 },
 "nbformat": 4,
 "nbformat_minor": 4
}
